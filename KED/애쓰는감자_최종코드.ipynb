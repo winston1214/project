{
 "cells": [
  {
   "cell_type": "markdown",
   "metadata": {},
   "source": [
    "# 애쓰는 감자 최종 코드"
   ]
  },
  {
   "cell_type": "markdown",
   "metadata": {},
   "source": [
    "### 환경\n",
    "- Ubuntu 20.04, GPU = RTX3090 x 2\n",
    "- Colab pro"
   ]
  },
  {
   "cell_type": "code",
   "execution_count": 1,
   "metadata": {},
   "outputs": [],
   "source": [
    "### local 기준 작성"
   ]
  },
  {
   "cell_type": "markdown",
   "metadata": {
    "id": "Eg4-ghvh_Aux"
   },
   "source": [
    "## import module"
   ]
  },
  {
   "cell_type": "code",
   "execution_count": null,
   "metadata": {
    "id": "cjx99WTe914a"
   },
   "outputs": [],
   "source": [
    "!pip install mxnet\n",
    "!pip install gluonnlp\n",
    "!pip install sentencepiece\n",
    "!pip install transformers==3\n",
    "!pip install torch\n",
    "\n",
    "!pip install git+https://git@github.com/SKTBrain/KoBERT.git@master"
   ]
  },
  {
   "cell_type": "code",
   "execution_count": null,
   "metadata": {
    "id": "5cdcZNtw_HT8"
   },
   "outputs": [],
   "source": [
    "import torch\n",
    "from torch import nn\n",
    "import torch.nn.functional as F\n",
    "import torch.optim as optim\n",
    "from torch.utils.data import Dataset, DataLoader\n",
    "import gluonnlp as nlp\n",
    "import numpy as np\n",
    "from tqdm import tqdm, tqdm_notebook\n",
    "\n",
    "from kobert.utils import get_tokenizer\n",
    "from kobert.pytorch_kobert import get_pytorch_kobert_model\n",
    "\n",
    "from transformers import AdamW\n",
    "from transformers.optimization import get_cosine_schedule_with_warmup"
   ]
  },
  {
   "cell_type": "code",
   "execution_count": 3,
   "metadata": {
    "id": "2aaKARrJR5Gd"
   },
   "outputs": [],
   "source": [
    "import pandas as pd\n",
    "import numpy as np\n",
    "import warnings\n",
    "warnings.filterwarnings('ignore')\n",
    "import re"
   ]
  },
  {
   "cell_type": "code",
   "execution_count": null,
   "metadata": {
    "colab": {
     "base_uri": "https://localhost:8080/"
    },
    "id": "gccjryiWR-5i",
    "outputId": "525c5927-330a-440e-a1c5-d649a4f87614"
   },
   "outputs": [
    {
     "name": "stdout",
     "output_type": "stream",
     "text": [
      "Mounted at /content/gdrive/\n"
     ]
    }
   ],
   "source": [
    "# from google.colab import drive\n",
    "# drive.mount('/content/drive/')"
   ]
  },
  {
   "cell_type": "code",
   "execution_count": null,
   "metadata": {},
   "outputs": [],
   "source": [
    "import os\n",
    "colab_path = '/content/drive/KED/'\n",
    "os.chdir(colab_path) # colab 작업환경으로 디렉토리 변경"
   ]
  },
  {
   "cell_type": "markdown",
   "metadata": {
    "id": "3xshvPTX-D5z"
   },
   "source": [
    "## Base PreProcessing"
   ]
  },
  {
   "cell_type": "code",
   "execution_count": null,
   "metadata": {
    "id": "921LLbf5SG-r"
   },
   "outputs": [],
   "source": [
    "train_txt_path = 'train.txt'\n",
    "data = pd.read_csv(train_txt_path,sep=\"\\\u0007\", engine='python', encoding=\"cp949\", dtype = {'KEDCD':str})"
   ]
  },
  {
   "cell_type": "code",
   "execution_count": null,
   "metadata": {
    "colab": {
     "base_uri": "https://localhost:8080/",
     "height": 343
    },
    "id": "p-crduyoS7EM",
    "outputId": "d257af1c-c683-4dbe-a9c8-d0998395acc1"
   },
   "outputs": [
    {
     "data": {
      "text/html": [
       "<div>\n",
       "<style scoped>\n",
       "    .dataframe tbody tr th:only-of-type {\n",
       "        vertical-align: middle;\n",
       "    }\n",
       "\n",
       "    .dataframe tbody tr th {\n",
       "        vertical-align: top;\n",
       "    }\n",
       "\n",
       "    .dataframe thead th {\n",
       "        text-align: right;\n",
       "    }\n",
       "</style>\n",
       "<table border=\"1\" class=\"dataframe\">\n",
       "  <thead>\n",
       "    <tr style=\"text-align: right;\">\n",
       "      <th></th>\n",
       "      <th>KEDCD</th>\n",
       "      <th>SEQ</th>\n",
       "      <th>BZ_PPOS_ITM_CTT</th>\n",
       "      <th>KSIC10_BZC_CD</th>\n",
       "    </tr>\n",
       "  </thead>\n",
       "  <tbody>\n",
       "    <tr>\n",
       "      <th>0</th>\n",
       "      <td>0007709505</td>\n",
       "      <td>1</td>\n",
       "      <td>건축자재 도, 소매업.</td>\n",
       "      <td>G46699</td>\n",
       "    </tr>\n",
       "    <tr>\n",
       "      <th>1</th>\n",
       "      <td>0007709505</td>\n",
       "      <td>2</td>\n",
       "      <td>부동산업.</td>\n",
       "      <td>G46699</td>\n",
       "    </tr>\n",
       "    <tr>\n",
       "      <th>2</th>\n",
       "      <td>0007709505</td>\n",
       "      <td>3</td>\n",
       "      <td>주택사업.</td>\n",
       "      <td>G46699</td>\n",
       "    </tr>\n",
       "    <tr>\n",
       "      <th>3</th>\n",
       "      <td>0007709505</td>\n",
       "      <td>4</td>\n",
       "      <td>각 호에관련된 부대사업 일체.</td>\n",
       "      <td>G46699</td>\n",
       "    </tr>\n",
       "    <tr>\n",
       "      <th>4</th>\n",
       "      <td>0007866121</td>\n",
       "      <td>1</td>\n",
       "      <td>농산물의 제조, 유통, 가공, 판매</td>\n",
       "      <td>C10309</td>\n",
       "    </tr>\n",
       "    <tr>\n",
       "      <th>5</th>\n",
       "      <td>0007866121</td>\n",
       "      <td>2</td>\n",
       "      <td>농작업의 전부 또는 일부 대행</td>\n",
       "      <td>C10309</td>\n",
       "    </tr>\n",
       "    <tr>\n",
       "      <th>6</th>\n",
       "      <td>0007866121</td>\n",
       "      <td>3</td>\n",
       "      <td>농산물 연구사업</td>\n",
       "      <td>C10309</td>\n",
       "    </tr>\n",
       "    <tr>\n",
       "      <th>7</th>\n",
       "      <td>0007866121</td>\n",
       "      <td>4</td>\n",
       "      <td>인터넷상품중개업</td>\n",
       "      <td>C10309</td>\n",
       "    </tr>\n",
       "    <tr>\n",
       "      <th>8</th>\n",
       "      <td>0007866121</td>\n",
       "      <td>5</td>\n",
       "      <td>전자상거래업</td>\n",
       "      <td>C10309</td>\n",
       "    </tr>\n",
       "    <tr>\n",
       "      <th>9</th>\n",
       "      <td>0007866121</td>\n",
       "      <td>6</td>\n",
       "      <td>과실 및 채소 저장처리업</td>\n",
       "      <td>C10309</td>\n",
       "    </tr>\n",
       "  </tbody>\n",
       "</table>\n",
       "</div>"
      ],
      "text/plain": [
       "        KEDCD  SEQ       BZ_PPOS_ITM_CTT KSIC10_BZC_CD\n",
       "0  0007709505    1          건축자재 도, 소매업.        G46699\n",
       "1  0007709505    2                 부동산업.        G46699\n",
       "2  0007709505    3                 주택사업.        G46699\n",
       "3  0007709505    4      각 호에관련된 부대사업 일체.        G46699\n",
       "4  0007866121    1   농산물의 제조, 유통, 가공, 판매        C10309\n",
       "5  0007866121    2      농작업의 전부 또는 일부 대행        C10309\n",
       "6  0007866121    3              농산물 연구사업        C10309\n",
       "7  0007866121    4              인터넷상품중개업        C10309\n",
       "8  0007866121    5                전자상거래업        C10309\n",
       "9  0007866121    6         과실 및 채소 저장처리업        C10309"
      ]
     },
     "execution_count": 4,
     "metadata": {
      "tags": []
     },
     "output_type": "execute_result"
    }
   ],
   "source": [
    "kedcd = data.KEDCD.unique()\n",
    "ksic = data.KSIC10_BZC_CD.unique()\n",
    "data2 = data[data.notnull()]\n",
    "# 숫자 제거\n",
    "data2['BZ_PPOS_ITM_CTT'] = data2['BZ_PPOS_ITM_CTT'].str.replace(\"^[0-9]\",'')\n",
    "data2.head(10)"
   ]
  },
  {
   "cell_type": "code",
   "execution_count": null,
   "metadata": {
    "id": "-Y1GVnyzTVd9"
   },
   "outputs": [],
   "source": [
    "dic_x = data2.groupby(['KEDCD','KSIC10_BZC_CD'])['BZ_PPOS_ITM_CTT'].apply(lambda x: x.values.tolist()).to_dict()"
   ]
  },
  {
   "cell_type": "code",
   "execution_count": null,
   "metadata": {
    "id": "V-bZ-laITW3X"
   },
   "outputs": [],
   "source": [
    "df = pd.DataFrame(columns=['KEDCD','BZ_PPOS_ITM_CTT','KSIC10_BZC_CD'])\n",
    "df['KEDCD'] = list(map(lambda x: x[0],list(dic_x.keys())))\n",
    "df['KSIC10_BZC_CD'] = list(map(lambda x: x[1],list(dic_x.keys())))\n",
    "df['BZ_PPOS_ITM_CTT'] = dic_x.values()"
   ]
  },
  {
   "cell_type": "code",
   "execution_count": null,
   "metadata": {
    "id": "a1bCGIIFX2A0"
   },
   "outputs": [],
   "source": [
    "df['BZ_PPOS_ITM_CTT'] = df['BZ_PPOS_ITM_CTT'].apply(lambda x: ''.join(x))"
   ]
  },
  {
   "cell_type": "code",
   "execution_count": null,
   "metadata": {
    "colab": {
     "base_uri": "https://localhost:8080/"
    },
    "id": "HjhpHm9uX-62",
    "outputId": "d50d0df6-703a-4fdc-abc0-a3eca51861df"
   },
   "outputs": [
    {
     "data": {
      "text/plain": [
       "KEDCD              0\n",
       "BZ_PPOS_ITM_CTT    0\n",
       "KSIC10_BZC_CD      0\n",
       "dtype: int64"
      ]
     },
     "execution_count": 8,
     "metadata": {
      "tags": []
     },
     "output_type": "execute_result"
    }
   ],
   "source": [
    "df.isnull().sum()"
   ]
  },
  {
   "cell_type": "code",
   "execution_count": null,
   "metadata": {
    "id": "M-RqyK8MYFpC"
   },
   "outputs": [],
   "source": [
    "df['Big'] = df['KSIC10_BZC_CD'].apply(lambda x: x[0])"
   ]
  },
  {
   "cell_type": "code",
   "execution_count": null,
   "metadata": {
    "id": "RV7E7Hj0YgIA"
   },
   "outputs": [],
   "source": [
    "from sklearn.model_selection import train_test_split\n",
    "train,val = train_test_split(df,test_size = .3, random_state = 42)"
   ]
  },
  {
   "cell_type": "code",
   "execution_count": null,
   "metadata": {
    "id": "gJW3I7G5Jhgn"
   },
   "outputs": [],
   "source": [
    "test = pd.read_csv('test.txt',dtype={'KEDCD':str})\n",
    "test.drop('Unnamed: 0',axis=1,inplace=True)"
   ]
  },
  {
   "cell_type": "code",
   "execution_count": null,
   "metadata": {
    "id": "m-IzZeM1J57v"
   },
   "outputs": [],
   "source": [
    "kedcd = test.KEDCD.unique()\n",
    "test = test[test.notnull()]\n",
    "test['BZ_PPOS_ITM_CTT'] = test['BZ_PPOS_ITM_CTT'].str.replace('[^\\w\\s]', '', regex=True)\n",
    "test['BZ_PPOS_ITM_CTT'] = test['BZ_PPOS_ITM_CTT'].str.replace(\"^[0-9]\",'')\n"
   ]
  },
  {
   "cell_type": "code",
   "execution_count": null,
   "metadata": {
    "id": "1Yh3LbepMH0J"
   },
   "outputs": [],
   "source": [
    "dic = test.groupby(['KEDCD'])['BZ_PPOS_ITM_CTT'].apply(lambda x: x.values.tolist()).to_dict()\n",
    "test_df = pd.DataFrame(columns=['KEDCD','BZ_PPOS_ITM_CTT'])\n",
    "test_df['KEDCD'] = dic.keys()\n",
    "test_df['BZ_PPOS_ITM_CTT'] = dic.values()\n",
    "test_df['BZ_PPOS_ITM_CTT'] = test_df['BZ_PPOS_ITM_CTT'].apply(lambda ls: [x for x in ls if str(x) != 'nan'])\n",
    "test_df['BZ_PPOS_ITM_CTT'] = test_df['BZ_PPOS_ITM_CTT'].apply(lambda x: ''.join(x))"
   ]
  },
  {
   "cell_type": "code",
   "execution_count": null,
   "metadata": {
    "colab": {
     "base_uri": "https://localhost:8080/",
     "height": 402
    },
    "id": "Ml47WXFnM4pS",
    "outputId": "3c84db7e-7fcd-4c66-d9c4-d5d1c33b5a85"
   },
   "outputs": [
    {
     "data": {
      "text/html": [
       "<div>\n",
       "<style scoped>\n",
       "    .dataframe tbody tr th:only-of-type {\n",
       "        vertical-align: middle;\n",
       "    }\n",
       "\n",
       "    .dataframe tbody tr th {\n",
       "        vertical-align: top;\n",
       "    }\n",
       "\n",
       "    .dataframe thead th {\n",
       "        text-align: right;\n",
       "    }\n",
       "</style>\n",
       "<table border=\"1\" class=\"dataframe\">\n",
       "  <thead>\n",
       "    <tr style=\"text-align: right;\">\n",
       "      <th></th>\n",
       "      <th>KEDCD</th>\n",
       "      <th>BZ_PPOS_ITM_CTT</th>\n",
       "    </tr>\n",
       "  </thead>\n",
       "  <tbody>\n",
       "    <tr>\n",
       "      <th>0</th>\n",
       "      <td>1000313</td>\n",
       "      <td>주택건설사업 대지조성업 임대주택사업 토목건축 공사업 도로포장 공사업 전기공사 청부...</td>\n",
       "    </tr>\n",
       "    <tr>\n",
       "      <th>1</th>\n",
       "      <td>1000929</td>\n",
       "      <td>섬유 제조업 섬유 무역업 섬유 수출입업 부동산 임대업 위 각호에 관련된 부대사업 일체</td>\n",
       "    </tr>\n",
       "    <tr>\n",
       "      <th>2</th>\n",
       "      <td>1002091</td>\n",
       "      <td>토목공사업 건축공사업 상하수도 공사업 문화재 보수 공사업 부동산 개발업 주택공사업...</td>\n",
       "    </tr>\n",
       "    <tr>\n",
       "      <th>3</th>\n",
       "      <td>10116</td>\n",
       "      <td>부동산 건설업 부동산 개발업 부동산 금융업 부동산 매매 및 임대업 부동산 이용 개...</td>\n",
       "    </tr>\n",
       "    <tr>\n",
       "      <th>4</th>\n",
       "      <td>101397</td>\n",
       "      <td>사업  협업적 농업경영을 통하여 생산성을 높이고 조합원의 소득증대를 도모함을 목적으...</td>\n",
       "    </tr>\n",
       "    <tr>\n",
       "      <th>...</th>\n",
       "      <td>...</td>\n",
       "      <td>...</td>\n",
       "    </tr>\n",
       "    <tr>\n",
       "      <th>19154</th>\n",
       "      <td>991555</td>\n",
       "      <td>농약신약제약개발 유용생물소재의 산업화 병저항성관련 유전자의 산업화 유전적지법에 의...</td>\n",
       "    </tr>\n",
       "    <tr>\n",
       "      <th>19155</th>\n",
       "      <td>995892</td>\n",
       "      <td>전자부품제품 제조 및 판매업 가전기기 제조 및 판매업 주택설비기기 제조 및 판매업...</td>\n",
       "    </tr>\n",
       "    <tr>\n",
       "      <th>19156</th>\n",
       "      <td>998792</td>\n",
       "      <td>영농경영의 합리화로 농업생산성의 향상과 조합원의 소득증대를 도모함을 목적으로하고 그...</td>\n",
       "    </tr>\n",
       "    <tr>\n",
       "      <th>19157</th>\n",
       "      <td>998996</td>\n",
       "      <td>의료기기관련 소프트웨어 개발 및 판매 멀티미디어 개발 및 판매 의료기기관련 하드웨...</td>\n",
       "    </tr>\n",
       "    <tr>\n",
       "      <th>19158</th>\n",
       "      <td>999752</td>\n",
       "      <td>토목 공사업 토목건축 공사업 건축 공사업 주택 건설업 조경 공사업 소방설비 공사업...</td>\n",
       "    </tr>\n",
       "  </tbody>\n",
       "</table>\n",
       "<p>19159 rows × 2 columns</p>\n",
       "</div>"
      ],
      "text/plain": [
       "         KEDCD                                    BZ_PPOS_ITM_CTT\n",
       "0      1000313   주택건설사업 대지조성업 임대주택사업 토목건축 공사업 도로포장 공사업 전기공사 청부...\n",
       "1      1000929    섬유 제조업 섬유 무역업 섬유 수출입업 부동산 임대업 위 각호에 관련된 부대사업 일체\n",
       "2      1002091   토목공사업 건축공사업 상하수도 공사업 문화재 보수 공사업 부동산 개발업 주택공사업...\n",
       "3        10116   부동산 건설업 부동산 개발업 부동산 금융업 부동산 매매 및 임대업 부동산 이용 개...\n",
       "4       101397  사업  협업적 농업경영을 통하여 생산성을 높이고 조합원의 소득증대를 도모함을 목적으...\n",
       "...        ...                                                ...\n",
       "19154   991555   농약신약제약개발 유용생물소재의 산업화 병저항성관련 유전자의 산업화 유전적지법에 의...\n",
       "19155   995892   전자부품제품 제조 및 판매업 가전기기 제조 및 판매업 주택설비기기 제조 및 판매업...\n",
       "19156   998792  영농경영의 합리화로 농업생산성의 향상과 조합원의 소득증대를 도모함을 목적으로하고 그...\n",
       "19157   998996   의료기기관련 소프트웨어 개발 및 판매 멀티미디어 개발 및 판매 의료기기관련 하드웨...\n",
       "19158   999752   토목 공사업 토목건축 공사업 건축 공사업 주택 건설업 조경 공사업 소방설비 공사업...\n",
       "\n",
       "[19159 rows x 2 columns]"
      ]
     },
     "execution_count": 25,
     "metadata": {
      "tags": []
     },
     "output_type": "execute_result"
    }
   ],
   "source": [
    "# test_df.to_csv('test.csv',index=False)"
   ]
  },
  {
   "cell_type": "code",
   "execution_count": null,
   "metadata": {
    "id": "LtSkxgGcZ2Nl"
   },
   "outputs": [],
   "source": [
    "# train.to_csv('/content/drive/MyDrive/애쓰는 감자/data/train.csv',index=False)\n",
    "# val.to_csv('/content/drive/MyDrive/애쓰는 감자/data/train.csv',index=False)"
   ]
  },
  {
   "cell_type": "markdown",
   "metadata": {},
   "source": [
    "## Augmentation Data"
   ]
  },
  {
   "cell_type": "code",
   "execution_count": null,
   "metadata": {},
   "outputs": [],
   "source": [
    "data = pd.read_csv('rename.csv') # 한국표준산업분류(10차)_표.xlsx를 python에서 불러올 수 있는 형태로 변환된 csv"
   ]
  },
  {
   "cell_type": "code",
   "execution_count": null,
   "metadata": {},
   "outputs": [],
   "source": [
    "data.drop([0,1],axis=0,inplace=True)\n",
    "data.columns = [str(i) for i in range(len(data.columns))]"
   ]
  },
  {
   "cell_type": "code",
   "execution_count": null,
   "metadata": {},
   "outputs": [],
   "source": [
    "df = pd.DataFrame(columns=['Dis','Target'])"
   ]
  },
  {
   "cell_type": "code",
   "execution_count": null,
   "metadata": {},
   "outputs": [],
   "source": [
    "df['Target'] = data['0']\n",
    "df['Dis'] = data['1']\n",
    "df = df.dropna().reset_index(drop=True)"
   ]
  },
  {
   "cell_type": "code",
   "execution_count": null,
   "metadata": {},
   "outputs": [],
   "source": [
    "# 증강 데이터 정리\n",
    "## DIS = 한국어 설명 ## Target = 예측할 코드 번호\n",
    "tmp = data[['3','2']]\n",
    "tmp.columns = ['Dis','Target']\n",
    "df = pd.concat([df,tmp]).dropna()\n",
    "tmp2 = data[['5','4']]\n",
    "tmp2.columns = ['Dis','Target']\n",
    "df = pd.concat([df,tmp2]).dropna()\n",
    "tmp3 = data[['7','6']]\n",
    "tmp3.columns = ['Dis','Target']\n",
    "df = pd.concat([df,tmp3]).dropna()\n",
    "tmp4 = data[['9','8']]\n",
    "tmp4.columns = ['Dis','Target']\n",
    "df = pd.concat([df,tmp4]).dropna()"
   ]
  },
  {
   "cell_type": "code",
   "execution_count": null,
   "metadata": {},
   "outputs": [],
   "source": [
    "# df.to_csv('Augmentation_data.csv',index=False)"
   ]
  },
  {
   "cell_type": "markdown",
   "metadata": {
    "id": "VERUxs-798M-"
   },
   "source": [
    "## PreProcessing for Bert"
   ]
  },
  {
   "cell_type": "markdown",
   "metadata": {
    "id": "SQvQBrBfWDIt"
   },
   "source": [
    "### 대분류"
   ]
  },
  {
   "cell_type": "code",
   "execution_count": null,
   "metadata": {
    "id": "TXcQXRUGZNJ0"
   },
   "outputs": [],
   "source": [
    "train = pd.read_csv('train.csv',dtype={'KEDCD':str,'BZ_PPOS_ITM_CTT':str,'KSIC10_BZC_CD':str,'mid':str,'Big':str})\n",
    "plus = pd.read_csv('Augmentation_data.csv')"
   ]
  },
  {
   "cell_type": "code",
   "execution_count": null,
   "metadata": {
    "id": "QbbVsNs122bi"
   },
   "outputs": [],
   "source": [
    "import re\n",
    "plus[\"BZ_PPOS_ITM_CTT\"] = plus[\"Dis\"].str.replace('[^\\w\\s]', '', regex=True) # 특수문자 제거\n",
    "plus.head()"
   ]
  },
  {
   "cell_type": "code",
   "execution_count": null,
   "metadata": {
    "id": "vTwlKT6Z29JY"
   },
   "outputs": [],
   "source": [
    "plus[\"BZ_PPOS_ITM_CTT\"] = plus[\"BZ_PPOS_ITM_CTT\"].str.replace('[0-9]+', '', regex=True) # 숫자 제거\n",
    "plus.head()"
   ]
  },
  {
   "cell_type": "code",
   "execution_count": null,
   "metadata": {
    "id": "vWLKB8eF29vX"
   },
   "outputs": [],
   "source": [
    "plus[\"Big\"] = plus[\"Target\"]\n",
    "plus.head()"
   ]
  },
  {
   "cell_type": "code",
   "execution_count": null,
   "metadata": {
    "id": "GR4HhvjP2_ZR"
   },
   "outputs": [],
   "source": [
    "data_big = plus.dropna(axis=0)\n",
    "len(data_big)"
   ]
  },
  {
   "cell_type": "code",
   "execution_count": null,
   "metadata": {
    "id": "uNMHUnLT3Bsp"
   },
   "outputs": [],
   "source": [
    "plus = plus.loc[:,['BZ_PPOS_ITM_CTT', 'Big']]\n",
    "plus.head()"
   ]
  },
  {
   "cell_type": "code",
   "execution_count": null,
   "metadata": {
    "id": "UASUc6wB3DSI"
   },
   "outputs": [],
   "source": [
    "plus['Big'] = plus['Big'].str[0]\n",
    "plus"
   ]
  },
  {
   "cell_type": "code",
   "execution_count": null,
   "metadata": {
    "id": "02fbjAKI3E0C"
   },
   "outputs": [],
   "source": [
    "trn = pd.concat([train, plus], ignore_index = True)\n",
    "trn.tail()"
   ]
  },
  {
   "cell_type": "code",
   "execution_count": null,
   "metadata": {
    "id": "aFdB1W6B3NRJ"
   },
   "outputs": [],
   "source": [
    "trn = trn.loc[:,['BZ_PPOS_ITM_CTT', 'Big']]\n",
    "trn.head()"
   ]
  },
  {
   "cell_type": "code",
   "execution_count": null,
   "metadata": {
    "id": "XDxX6k5W3Ohp"
   },
   "outputs": [],
   "source": [
    "trn =trn.dropna(axis=0)\n",
    "len(trn)"
   ]
  },
  {
   "cell_type": "code",
   "execution_count": null,
   "metadata": {
    "id": "442NuWLR3Rkx"
   },
   "outputs": [],
   "source": [
    "trn_shuffle[trn_shuffle['Big'] == \"3\"]"
   ]
  },
  {
   "cell_type": "code",
   "execution_count": null,
   "metadata": {
    "id": "ULrVY4yj3Vnt"
   },
   "outputs": [],
   "source": [
    "remove_ = trn_shuffle[trn_shuffle['Big'] == \"3\"].index\n",
    "trn_shuffle = trn_shuffle.drop(remove_)\n",
    "len(trn_shuffle)"
   ]
  },
  {
   "cell_type": "code",
   "execution_count": null,
   "metadata": {
    "id": "OaUBT6T73QLZ"
   },
   "outputs": [],
   "source": [
    "trn_shuffle = trn.sample(frac=1).reset_index(drop=True)\n",
    "trn_shuffle.head()"
   ]
  },
  {
   "cell_type": "code",
   "execution_count": null,
   "metadata": {
    "id": "Dr499vok3XNo"
   },
   "outputs": [],
   "source": [
    "trn_shuffle.to_csv('train_data_se.csv', index = False)"
   ]
  },
  {
   "cell_type": "code",
   "execution_count": null,
   "metadata": {
    "id": "i8ZqXnlJ3ZL6"
   },
   "outputs": [],
   "source": [
    "# 라벨링\n",
    "from sklearn.preprocessing import LabelEncoder\n",
    "encoder = LabelEncoder()\n",
    "encoder.fit(trn_shuffle['Big'])\n",
    "trn_shuffle['Big_idx'] = encoder.transform(trn_shuffle['Big'])\n",
    "trn_shuffle.head()"
   ]
  },
  {
   "cell_type": "code",
   "execution_count": null,
   "metadata": {
    "id": "B-fFFk9X3ais"
   },
   "outputs": [],
   "source": [
    "# 라벨링된 것 매핑\n",
    "mapping = dict(zip(range(len(encoder.classes_)), encoder.classes_))\n",
    "mapping"
   ]
  },
  {
   "cell_type": "code",
   "execution_count": null,
   "metadata": {
    "id": "39KY4xf53btk"
   },
   "outputs": [],
   "source": [
    "trn_shuffle = trn_shuffle.loc[:,['BZ_PPOS_ITM_CTT', 'Big_idx']]\n",
    "trn_shuffle.head()"
   ]
  },
  {
   "cell_type": "code",
   "execution_count": null,
   "metadata": {
    "id": "eN6hNCxSpkUq"
   },
   "outputs": [],
   "source": [
    "trn_shuffle.to_csv('train_big.txt', sep='\\t', index=True)"
   ]
  },
  {
   "cell_type": "markdown",
   "metadata": {
    "id": "z74MF-rRWIE9"
   },
   "source": [
    "### 중분류"
   ]
  },
  {
   "cell_type": "code",
   "execution_count": 4,
   "metadata": {},
   "outputs": [],
   "source": [
    "train = pd.read_csv('train.csv',dtype={'KEDCD':str,'BZ_PPOS_ITM_CTT':str,'KSIC10_BZC_CD':str,'mid':str,'Big':str})\n",
    "plus = pd.read_csv('Augmentation_data.csv')"
   ]
  },
  {
   "cell_type": "code",
   "execution_count": 5,
   "metadata": {
    "colab": {
     "base_uri": "https://localhost:8080/",
     "height": 202
    },
    "id": "sEbM9W-3svSc",
    "outputId": "833c4868-606b-426c-841f-2c9b5bbacf6f"
   },
   "outputs": [
    {
     "data": {
      "text/html": [
       "<div>\n",
       "<style scoped>\n",
       "    .dataframe tbody tr th:only-of-type {\n",
       "        vertical-align: middle;\n",
       "    }\n",
       "\n",
       "    .dataframe tbody tr th {\n",
       "        vertical-align: top;\n",
       "    }\n",
       "\n",
       "    .dataframe thead th {\n",
       "        text-align: right;\n",
       "    }\n",
       "</style>\n",
       "<table border=\"1\" class=\"dataframe\">\n",
       "  <thead>\n",
       "    <tr style=\"text-align: right;\">\n",
       "      <th></th>\n",
       "      <th>Dis</th>\n",
       "      <th>Target</th>\n",
       "      <th>BZ_PPOS_ITM_CTT</th>\n",
       "    </tr>\n",
       "  </thead>\n",
       "  <tbody>\n",
       "    <tr>\n",
       "      <th>0</th>\n",
       "      <td>농업, 임업 및 어업(01~03)</td>\n",
       "      <td>A</td>\n",
       "      <td>농업 임업 및 어업0103</td>\n",
       "    </tr>\n",
       "    <tr>\n",
       "      <th>1</th>\n",
       "      <td>광업(05~08)</td>\n",
       "      <td>B</td>\n",
       "      <td>광업0508</td>\n",
       "    </tr>\n",
       "    <tr>\n",
       "      <th>2</th>\n",
       "      <td>제조업(10~34)</td>\n",
       "      <td>C</td>\n",
       "      <td>제조업1034</td>\n",
       "    </tr>\n",
       "    <tr>\n",
       "      <th>3</th>\n",
       "      <td>전기, 가스, 증기 및 공기 조절 공급업(35)</td>\n",
       "      <td>D</td>\n",
       "      <td>전기 가스 증기 및 공기 조절 공급업35</td>\n",
       "    </tr>\n",
       "    <tr>\n",
       "      <th>4</th>\n",
       "      <td>수도, 하수 및 폐기물 처리, 원료 재생업(36~39)</td>\n",
       "      <td>E</td>\n",
       "      <td>수도 하수 및 폐기물 처리 원료 재생업3639</td>\n",
       "    </tr>\n",
       "  </tbody>\n",
       "</table>\n",
       "</div>"
      ],
      "text/plain": [
       "                              Dis Target            BZ_PPOS_ITM_CTT\n",
       "0              농업, 임업 및 어업(01~03)      A             농업 임업 및 어업0103\n",
       "1                       광업(05~08)      B                     광업0508\n",
       "2                      제조업(10~34)      C                    제조업1034\n",
       "3      전기, 가스, 증기 및 공기 조절 공급업(35)      D     전기 가스 증기 및 공기 조절 공급업35\n",
       "4  수도, 하수 및 폐기물 처리, 원료 재생업(36~39)      E  수도 하수 및 폐기물 처리 원료 재생업3639"
      ]
     },
     "execution_count": 5,
     "metadata": {},
     "output_type": "execute_result"
    }
   ],
   "source": [
    "import re\n",
    "plus[\"BZ_PPOS_ITM_CTT\"] = plus[\"Dis\"].str.replace('[^\\w\\s]', '', regex=True)\n",
    "plus.head()"
   ]
  },
  {
   "cell_type": "code",
   "execution_count": 6,
   "metadata": {
    "colab": {
     "base_uri": "https://localhost:8080/",
     "height": 202
    },
    "id": "g47xALADsvSd",
    "outputId": "56fa2623-7055-40d8-c8a1-90138290c990"
   },
   "outputs": [
    {
     "data": {
      "text/html": [
       "<div>\n",
       "<style scoped>\n",
       "    .dataframe tbody tr th:only-of-type {\n",
       "        vertical-align: middle;\n",
       "    }\n",
       "\n",
       "    .dataframe tbody tr th {\n",
       "        vertical-align: top;\n",
       "    }\n",
       "\n",
       "    .dataframe thead th {\n",
       "        text-align: right;\n",
       "    }\n",
       "</style>\n",
       "<table border=\"1\" class=\"dataframe\">\n",
       "  <thead>\n",
       "    <tr style=\"text-align: right;\">\n",
       "      <th></th>\n",
       "      <th>Dis</th>\n",
       "      <th>Target</th>\n",
       "      <th>BZ_PPOS_ITM_CTT</th>\n",
       "    </tr>\n",
       "  </thead>\n",
       "  <tbody>\n",
       "    <tr>\n",
       "      <th>0</th>\n",
       "      <td>농업, 임업 및 어업(01~03)</td>\n",
       "      <td>A</td>\n",
       "      <td>농업 임업 및 어업</td>\n",
       "    </tr>\n",
       "    <tr>\n",
       "      <th>1</th>\n",
       "      <td>광업(05~08)</td>\n",
       "      <td>B</td>\n",
       "      <td>광업</td>\n",
       "    </tr>\n",
       "    <tr>\n",
       "      <th>2</th>\n",
       "      <td>제조업(10~34)</td>\n",
       "      <td>C</td>\n",
       "      <td>제조업</td>\n",
       "    </tr>\n",
       "    <tr>\n",
       "      <th>3</th>\n",
       "      <td>전기, 가스, 증기 및 공기 조절 공급업(35)</td>\n",
       "      <td>D</td>\n",
       "      <td>전기 가스 증기 및 공기 조절 공급업</td>\n",
       "    </tr>\n",
       "    <tr>\n",
       "      <th>4</th>\n",
       "      <td>수도, 하수 및 폐기물 처리, 원료 재생업(36~39)</td>\n",
       "      <td>E</td>\n",
       "      <td>수도 하수 및 폐기물 처리 원료 재생업</td>\n",
       "    </tr>\n",
       "  </tbody>\n",
       "</table>\n",
       "</div>"
      ],
      "text/plain": [
       "                              Dis Target        BZ_PPOS_ITM_CTT\n",
       "0              농업, 임업 및 어업(01~03)      A             농업 임업 및 어업\n",
       "1                       광업(05~08)      B                     광업\n",
       "2                      제조업(10~34)      C                    제조업\n",
       "3      전기, 가스, 증기 및 공기 조절 공급업(35)      D   전기 가스 증기 및 공기 조절 공급업\n",
       "4  수도, 하수 및 폐기물 처리, 원료 재생업(36~39)      E  수도 하수 및 폐기물 처리 원료 재생업"
      ]
     },
     "execution_count": 6,
     "metadata": {},
     "output_type": "execute_result"
    }
   ],
   "source": [
    "plus[\"BZ_PPOS_ITM_CTT\"] = plus[\"BZ_PPOS_ITM_CTT\"].str.replace('[0-9]+', '', regex=True)\n",
    "plus.head()"
   ]
  },
  {
   "cell_type": "code",
   "execution_count": 7,
   "metadata": {
    "colab": {
     "base_uri": "https://localhost:8080/",
     "height": 415
    },
    "id": "Na92Iq5vsvSd",
    "outputId": "c67317ae-caee-4cf2-b4ca-3e93a6e63921"
   },
   "outputs": [
    {
     "data": {
      "text/html": [
       "<div>\n",
       "<style scoped>\n",
       "    .dataframe tbody tr th:only-of-type {\n",
       "        vertical-align: middle;\n",
       "    }\n",
       "\n",
       "    .dataframe tbody tr th {\n",
       "        vertical-align: top;\n",
       "    }\n",
       "\n",
       "    .dataframe thead th {\n",
       "        text-align: right;\n",
       "    }\n",
       "</style>\n",
       "<table border=\"1\" class=\"dataframe\">\n",
       "  <thead>\n",
       "    <tr style=\"text-align: right;\">\n",
       "      <th></th>\n",
       "      <th>Dis</th>\n",
       "      <th>Target</th>\n",
       "      <th>BZ_PPOS_ITM_CTT</th>\n",
       "      <th>mid</th>\n",
       "    </tr>\n",
       "  </thead>\n",
       "  <tbody>\n",
       "    <tr>\n",
       "      <th>0</th>\n",
       "      <td>농업, 임업 및 어업(01~03)</td>\n",
       "      <td>A</td>\n",
       "      <td>농업 임업 및 어업</td>\n",
       "      <td></td>\n",
       "    </tr>\n",
       "    <tr>\n",
       "      <th>1</th>\n",
       "      <td>광업(05~08)</td>\n",
       "      <td>B</td>\n",
       "      <td>광업</td>\n",
       "      <td></td>\n",
       "    </tr>\n",
       "    <tr>\n",
       "      <th>2</th>\n",
       "      <td>제조업(10~34)</td>\n",
       "      <td>C</td>\n",
       "      <td>제조업</td>\n",
       "      <td></td>\n",
       "    </tr>\n",
       "    <tr>\n",
       "      <th>3</th>\n",
       "      <td>전기, 가스, 증기 및 공기 조절 공급업(35)</td>\n",
       "      <td>D</td>\n",
       "      <td>전기 가스 증기 및 공기 조절 공급업</td>\n",
       "      <td></td>\n",
       "    </tr>\n",
       "    <tr>\n",
       "      <th>4</th>\n",
       "      <td>수도, 하수 및 폐기물 처리, 원료 재생업(36~39)</td>\n",
       "      <td>E</td>\n",
       "      <td>수도 하수 및 폐기물 처리 원료 재생업</td>\n",
       "      <td></td>\n",
       "    </tr>\n",
       "    <tr>\n",
       "      <th>...</th>\n",
       "      <td>...</td>\n",
       "      <td>...</td>\n",
       "      <td>...</td>\n",
       "      <td>...</td>\n",
       "    </tr>\n",
       "    <tr>\n",
       "      <th>2016</th>\n",
       "      <td>가구 내 고용활동</td>\n",
       "      <td>T97000</td>\n",
       "      <td>가구 내 고용활동</td>\n",
       "      <td>97</td>\n",
       "    </tr>\n",
       "    <tr>\n",
       "      <th>2017</th>\n",
       "      <td>자가 소비를 위한 가사 생산 활동</td>\n",
       "      <td>T98100</td>\n",
       "      <td>자가 소비를 위한 가사 생산 활동</td>\n",
       "      <td>98</td>\n",
       "    </tr>\n",
       "    <tr>\n",
       "      <th>2018</th>\n",
       "      <td>자가 소비를 위한 가사 서비스 활동</td>\n",
       "      <td>T98200</td>\n",
       "      <td>자가 소비를 위한 가사 서비스 활동</td>\n",
       "      <td>98</td>\n",
       "    </tr>\n",
       "    <tr>\n",
       "      <th>2019</th>\n",
       "      <td>주한 외국 공관</td>\n",
       "      <td>U99001</td>\n",
       "      <td>주한 외국 공관</td>\n",
       "      <td>99</td>\n",
       "    </tr>\n",
       "    <tr>\n",
       "      <th>2020</th>\n",
       "      <td>기타 국제 및 외국기관</td>\n",
       "      <td>U99009</td>\n",
       "      <td>기타 국제 및 외국기관</td>\n",
       "      <td>99</td>\n",
       "    </tr>\n",
       "  </tbody>\n",
       "</table>\n",
       "<p>2021 rows × 4 columns</p>\n",
       "</div>"
      ],
      "text/plain": [
       "                                 Dis  Target        BZ_PPOS_ITM_CTT mid\n",
       "0                 농업, 임업 및 어업(01~03)       A             농업 임업 및 어업    \n",
       "1                          광업(05~08)       B                     광업    \n",
       "2                         제조업(10~34)       C                    제조업    \n",
       "3         전기, 가스, 증기 및 공기 조절 공급업(35)       D   전기 가스 증기 및 공기 조절 공급업    \n",
       "4     수도, 하수 및 폐기물 처리, 원료 재생업(36~39)       E  수도 하수 및 폐기물 처리 원료 재생업    \n",
       "...                              ...     ...                    ...  ..\n",
       "2016                       가구 내 고용활동  T97000              가구 내 고용활동  97\n",
       "2017              자가 소비를 위한 가사 생산 활동  T98100     자가 소비를 위한 가사 생산 활동  98\n",
       "2018             자가 소비를 위한 가사 서비스 활동  T98200    자가 소비를 위한 가사 서비스 활동  98\n",
       "2019                        주한 외국 공관  U99001               주한 외국 공관  99\n",
       "2020                    기타 국제 및 외국기관  U99009           기타 국제 및 외국기관  99\n",
       "\n",
       "[2021 rows x 4 columns]"
      ]
     },
     "execution_count": 7,
     "metadata": {},
     "output_type": "execute_result"
    }
   ],
   "source": [
    "plus[\"mid\"] = plus[\"Target\"].str[1:3]\n",
    "plus"
   ]
  },
  {
   "cell_type": "code",
   "execution_count": 8,
   "metadata": {
    "colab": {
     "base_uri": "https://localhost:8080/"
    },
    "id": "N3tcYZxKsvSd",
    "outputId": "5b379458-e972-4cfe-e0b4-10ecd45cdb9e"
   },
   "outputs": [
    {
     "name": "stdout",
     "output_type": "stream",
     "text": [
      "1999\n"
     ]
    }
   ],
   "source": [
    "# 추가내용 파일 - 해당 분류에 맞게 삭제 \n",
    "for i in range(len(plus)):\n",
    "    if len(plus['mid'][i])<2:\n",
    "        plus=plus.drop(index=i)\n",
    "\n",
    "print(len(plus))"
   ]
  },
  {
   "cell_type": "code",
   "execution_count": 9,
   "metadata": {
    "colab": {
     "base_uri": "https://localhost:8080/"
    },
    "id": "MR5TTF_ksvSe",
    "outputId": "a5700175-7c02-4191-aa8c-545aa815ea15"
   },
   "outputs": [
    {
     "data": {
      "text/plain": [
       "array(['01', '02', '03', '05', '06', '07', '08', '10', '11', '12', '13',\n",
       "       '14', '15', '16', '17', '18', '19', '20', '21', '22', '23', '24',\n",
       "       '25', '26', '27', '28', '29', '30', '31', '32', '33', '34', '36',\n",
       "       '37', '38', '39', '41', '42', '45', '46', '47', '49', '50', '51',\n",
       "       '52', '55', '56', '58', '59', '60', '61', '62', '63', '64', '65',\n",
       "       '66', '68', '70', '71', '72', '73', '74', '75', '76', '84', '85',\n",
       "       '86', '87', '90', '91', '94', '95', '96', '97', '98', '99', '35'],\n",
       "      dtype=object)"
      ]
     },
     "execution_count": 9,
     "metadata": {},
     "output_type": "execute_result"
    }
   ],
   "source": [
    "plus['mid'].unique()"
   ]
  },
  {
   "cell_type": "code",
   "execution_count": 10,
   "metadata": {
    "colab": {
     "base_uri": "https://localhost:8080/",
     "height": 202
    },
    "id": "KuaLDoBCsvSe",
    "outputId": "9d82d712-aa0d-4d45-a592-5cbc64067ff4"
   },
   "outputs": [
    {
     "data": {
      "text/html": [
       "<div>\n",
       "<style scoped>\n",
       "    .dataframe tbody tr th:only-of-type {\n",
       "        vertical-align: middle;\n",
       "    }\n",
       "\n",
       "    .dataframe tbody tr th {\n",
       "        vertical-align: top;\n",
       "    }\n",
       "\n",
       "    .dataframe thead th {\n",
       "        text-align: right;\n",
       "    }\n",
       "</style>\n",
       "<table border=\"1\" class=\"dataframe\">\n",
       "  <thead>\n",
       "    <tr style=\"text-align: right;\">\n",
       "      <th></th>\n",
       "      <th>BZ_PPOS_ITM_CTT</th>\n",
       "      <th>mid</th>\n",
       "    </tr>\n",
       "  </thead>\n",
       "  <tbody>\n",
       "    <tr>\n",
       "      <th>2016</th>\n",
       "      <td>가구 내 고용활동</td>\n",
       "      <td>97</td>\n",
       "    </tr>\n",
       "    <tr>\n",
       "      <th>2017</th>\n",
       "      <td>자가 소비를 위한 가사 생산 활동</td>\n",
       "      <td>98</td>\n",
       "    </tr>\n",
       "    <tr>\n",
       "      <th>2018</th>\n",
       "      <td>자가 소비를 위한 가사 서비스 활동</td>\n",
       "      <td>98</td>\n",
       "    </tr>\n",
       "    <tr>\n",
       "      <th>2019</th>\n",
       "      <td>주한 외국 공관</td>\n",
       "      <td>99</td>\n",
       "    </tr>\n",
       "    <tr>\n",
       "      <th>2020</th>\n",
       "      <td>기타 국제 및 외국기관</td>\n",
       "      <td>99</td>\n",
       "    </tr>\n",
       "  </tbody>\n",
       "</table>\n",
       "</div>"
      ],
      "text/plain": [
       "          BZ_PPOS_ITM_CTT mid\n",
       "2016            가구 내 고용활동  97\n",
       "2017   자가 소비를 위한 가사 생산 활동  98\n",
       "2018  자가 소비를 위한 가사 서비스 활동  98\n",
       "2019             주한 외국 공관  99\n",
       "2020         기타 국제 및 외국기관  99"
      ]
     },
     "execution_count": 10,
     "metadata": {},
     "output_type": "execute_result"
    }
   ],
   "source": [
    "data_mid = plus.loc[:,['BZ_PPOS_ITM_CTT', 'mid']]\n",
    "data_mid.tail()"
   ]
  },
  {
   "cell_type": "code",
   "execution_count": 11,
   "metadata": {
    "id": "ZYcGSoeLsvSe"
   },
   "outputs": [
    {
     "name": "stdout",
     "output_type": "stream",
     "text": [
      "1139566\n"
     ]
    }
   ],
   "source": [
    "for i in range(len(train)):\n",
    "    if len(train['KSIC10_BZC_CD'][i])<3:\n",
    "        train=train.drop(index=i)\n",
    "\n",
    "print(len(train))"
   ]
  },
  {
   "cell_type": "code",
   "execution_count": 12,
   "metadata": {
    "id": "Fcg0kAzVsvSe"
   },
   "outputs": [
    {
     "data": {
      "text/html": [
       "<div>\n",
       "<style scoped>\n",
       "    .dataframe tbody tr th:only-of-type {\n",
       "        vertical-align: middle;\n",
       "    }\n",
       "\n",
       "    .dataframe tbody tr th {\n",
       "        vertical-align: top;\n",
       "    }\n",
       "\n",
       "    .dataframe thead th {\n",
       "        text-align: right;\n",
       "    }\n",
       "</style>\n",
       "<table border=\"1\" class=\"dataframe\">\n",
       "  <thead>\n",
       "    <tr style=\"text-align: right;\">\n",
       "      <th></th>\n",
       "      <th>KEDCD</th>\n",
       "      <th>BZ_PPOS_ITM_CTT</th>\n",
       "      <th>KSIC10_BZC_CD</th>\n",
       "      <th>mid</th>\n",
       "      <th>Big</th>\n",
       "    </tr>\n",
       "  </thead>\n",
       "  <tbody>\n",
       "    <tr>\n",
       "      <th>0</th>\n",
       "      <td>7695516.0</td>\n",
       "      <td>농산물 판매업  전자상거래업  통신판매업농임산물 건강기능식품 건강보조식품 일반식품...</td>\n",
       "      <td>G46209</td>\n",
       "      <td>46</td>\n",
       "      <td>G</td>\n",
       "    </tr>\n",
       "    <tr>\n",
       "      <th>1</th>\n",
       "      <td>8177802.0</td>\n",
       "      <td>건축공사업  토목공사업  토공사업  토목건축공사업  철근콘크리트공사업  실내인테리...</td>\n",
       "      <td>F41229</td>\n",
       "      <td>41</td>\n",
       "      <td>F</td>\n",
       "    </tr>\n",
       "    <tr>\n",
       "      <th>2</th>\n",
       "      <td>8233352.0</td>\n",
       "      <td>음식점업 경양식 퓨전 한식 중식 일식  식품 제조 가공 유통 판매 도소매업  제과...</td>\n",
       "      <td>I56111</td>\n",
       "      <td>56</td>\n",
       "      <td>I</td>\n",
       "    </tr>\n",
       "    <tr>\n",
       "      <th>3</th>\n",
       "      <td>991833.0</td>\n",
       "      <td>변호사의 직무에 속하는 업무  공증인의 직무에 속하는 업무  변호사법 제조에 속하...</td>\n",
       "      <td>M71101</td>\n",
       "      <td>71</td>\n",
       "      <td>M</td>\n",
       "    </tr>\n",
       "    <tr>\n",
       "      <th>4</th>\n",
       "      <td>7305137.0</td>\n",
       "      <td>일반폐기물처리업  재활용사업  정화조 청소업  위 각항에 부대되는 사업일체</td>\n",
       "      <td>E38210</td>\n",
       "      <td>38</td>\n",
       "      <td>E</td>\n",
       "    </tr>\n",
       "  </tbody>\n",
       "</table>\n",
       "</div>"
      ],
      "text/plain": [
       "       KEDCD                                    BZ_PPOS_ITM_CTT KSIC10_BZC_CD  \\\n",
       "0  7695516.0   농산물 판매업  전자상거래업  통신판매업농임산물 건강기능식품 건강보조식품 일반식품...        G46209   \n",
       "1  8177802.0   건축공사업  토목공사업  토공사업  토목건축공사업  철근콘크리트공사업  실내인테리...        F41229   \n",
       "2  8233352.0   음식점업 경양식 퓨전 한식 중식 일식  식품 제조 가공 유통 판매 도소매업  제과...        I56111   \n",
       "3   991833.0   변호사의 직무에 속하는 업무  공증인의 직무에 속하는 업무  변호사법 제조에 속하...        M71101   \n",
       "4  7305137.0          일반폐기물처리업  재활용사업  정화조 청소업  위 각항에 부대되는 사업일체        E38210   \n",
       "\n",
       "  mid Big  \n",
       "0  46   G  \n",
       "1  41   F  \n",
       "2  56   I  \n",
       "3  71   M  \n",
       "4  38   E  "
      ]
     },
     "execution_count": 12,
     "metadata": {},
     "output_type": "execute_result"
    }
   ],
   "source": [
    "train['mid']=train['KSIC10_BZC_CD'].str[1:3]\n",
    "train.head()"
   ]
  },
  {
   "cell_type": "code",
   "execution_count": 13,
   "metadata": {
    "id": "vZnMHjH5svSf"
   },
   "outputs": [
    {
     "data": {
      "text/html": [
       "<div>\n",
       "<style scoped>\n",
       "    .dataframe tbody tr th:only-of-type {\n",
       "        vertical-align: middle;\n",
       "    }\n",
       "\n",
       "    .dataframe tbody tr th {\n",
       "        vertical-align: top;\n",
       "    }\n",
       "\n",
       "    .dataframe thead th {\n",
       "        text-align: right;\n",
       "    }\n",
       "</style>\n",
       "<table border=\"1\" class=\"dataframe\">\n",
       "  <thead>\n",
       "    <tr style=\"text-align: right;\">\n",
       "      <th></th>\n",
       "      <th>KEDCD</th>\n",
       "      <th>BZ_PPOS_ITM_CTT</th>\n",
       "      <th>KSIC10_BZC_CD</th>\n",
       "      <th>mid</th>\n",
       "      <th>Big</th>\n",
       "    </tr>\n",
       "  </thead>\n",
       "  <tbody>\n",
       "    <tr>\n",
       "      <th>1141560</th>\n",
       "      <td>NaN</td>\n",
       "      <td>가구 내 고용활동</td>\n",
       "      <td>NaN</td>\n",
       "      <td>97</td>\n",
       "      <td>NaN</td>\n",
       "    </tr>\n",
       "    <tr>\n",
       "      <th>1141561</th>\n",
       "      <td>NaN</td>\n",
       "      <td>자가 소비를 위한 가사 생산 활동</td>\n",
       "      <td>NaN</td>\n",
       "      <td>98</td>\n",
       "      <td>NaN</td>\n",
       "    </tr>\n",
       "    <tr>\n",
       "      <th>1141562</th>\n",
       "      <td>NaN</td>\n",
       "      <td>자가 소비를 위한 가사 서비스 활동</td>\n",
       "      <td>NaN</td>\n",
       "      <td>98</td>\n",
       "      <td>NaN</td>\n",
       "    </tr>\n",
       "    <tr>\n",
       "      <th>1141563</th>\n",
       "      <td>NaN</td>\n",
       "      <td>주한 외국 공관</td>\n",
       "      <td>NaN</td>\n",
       "      <td>99</td>\n",
       "      <td>NaN</td>\n",
       "    </tr>\n",
       "    <tr>\n",
       "      <th>1141564</th>\n",
       "      <td>NaN</td>\n",
       "      <td>기타 국제 및 외국기관</td>\n",
       "      <td>NaN</td>\n",
       "      <td>99</td>\n",
       "      <td>NaN</td>\n",
       "    </tr>\n",
       "  </tbody>\n",
       "</table>\n",
       "</div>"
      ],
      "text/plain": [
       "        KEDCD      BZ_PPOS_ITM_CTT KSIC10_BZC_CD mid  Big\n",
       "1141560   NaN            가구 내 고용활동           NaN  97  NaN\n",
       "1141561   NaN   자가 소비를 위한 가사 생산 활동           NaN  98  NaN\n",
       "1141562   NaN  자가 소비를 위한 가사 서비스 활동           NaN  98  NaN\n",
       "1141563   NaN             주한 외국 공관           NaN  99  NaN\n",
       "1141564   NaN         기타 국제 및 외국기관           NaN  99  NaN"
      ]
     },
     "execution_count": 13,
     "metadata": {},
     "output_type": "execute_result"
    }
   ],
   "source": [
    "trn = pd.concat([train, data_mid], ignore_index = True)\n",
    "trn.tail()"
   ]
  },
  {
   "cell_type": "code",
   "execution_count": 14,
   "metadata": {
    "id": "qPlBCzYtsvSf"
   },
   "outputs": [
    {
     "data": {
      "text/html": [
       "<div>\n",
       "<style scoped>\n",
       "    .dataframe tbody tr th:only-of-type {\n",
       "        vertical-align: middle;\n",
       "    }\n",
       "\n",
       "    .dataframe tbody tr th {\n",
       "        vertical-align: top;\n",
       "    }\n",
       "\n",
       "    .dataframe thead th {\n",
       "        text-align: right;\n",
       "    }\n",
       "</style>\n",
       "<table border=\"1\" class=\"dataframe\">\n",
       "  <thead>\n",
       "    <tr style=\"text-align: right;\">\n",
       "      <th></th>\n",
       "      <th>BZ_PPOS_ITM_CTT</th>\n",
       "      <th>mid</th>\n",
       "    </tr>\n",
       "  </thead>\n",
       "  <tbody>\n",
       "    <tr>\n",
       "      <th>1141560</th>\n",
       "      <td>가구 내 고용활동</td>\n",
       "      <td>97</td>\n",
       "    </tr>\n",
       "    <tr>\n",
       "      <th>1141561</th>\n",
       "      <td>자가 소비를 위한 가사 생산 활동</td>\n",
       "      <td>98</td>\n",
       "    </tr>\n",
       "    <tr>\n",
       "      <th>1141562</th>\n",
       "      <td>자가 소비를 위한 가사 서비스 활동</td>\n",
       "      <td>98</td>\n",
       "    </tr>\n",
       "    <tr>\n",
       "      <th>1141563</th>\n",
       "      <td>주한 외국 공관</td>\n",
       "      <td>99</td>\n",
       "    </tr>\n",
       "    <tr>\n",
       "      <th>1141564</th>\n",
       "      <td>기타 국제 및 외국기관</td>\n",
       "      <td>99</td>\n",
       "    </tr>\n",
       "  </tbody>\n",
       "</table>\n",
       "</div>"
      ],
      "text/plain": [
       "             BZ_PPOS_ITM_CTT mid\n",
       "1141560            가구 내 고용활동  97\n",
       "1141561   자가 소비를 위한 가사 생산 활동  98\n",
       "1141562  자가 소비를 위한 가사 서비스 활동  98\n",
       "1141563             주한 외국 공관  99\n",
       "1141564         기타 국제 및 외국기관  99"
      ]
     },
     "execution_count": 14,
     "metadata": {},
     "output_type": "execute_result"
    }
   ],
   "source": [
    "trn = trn.loc[:,['BZ_PPOS_ITM_CTT', 'mid']]\n",
    "trn.tail()"
   ]
  },
  {
   "cell_type": "code",
   "execution_count": 15,
   "metadata": {
    "id": "-Mf97XyesvSf"
   },
   "outputs": [
    {
     "data": {
      "text/plain": [
       "1141565"
      ]
     },
     "execution_count": 15,
     "metadata": {},
     "output_type": "execute_result"
    }
   ],
   "source": [
    "trn =trn.dropna(axis=0)\n",
    "len(trn)"
   ]
  },
  {
   "cell_type": "code",
   "execution_count": 16,
   "metadata": {
    "id": "ROsQlTnpsvSf"
   },
   "outputs": [
    {
     "data": {
      "text/html": [
       "<div>\n",
       "<style scoped>\n",
       "    .dataframe tbody tr th:only-of-type {\n",
       "        vertical-align: middle;\n",
       "    }\n",
       "\n",
       "    .dataframe tbody tr th {\n",
       "        vertical-align: top;\n",
       "    }\n",
       "\n",
       "    .dataframe thead th {\n",
       "        text-align: right;\n",
       "    }\n",
       "</style>\n",
       "<table border=\"1\" class=\"dataframe\">\n",
       "  <thead>\n",
       "    <tr style=\"text-align: right;\">\n",
       "      <th></th>\n",
       "      <th>BZ_PPOS_ITM_CTT</th>\n",
       "      <th>mid</th>\n",
       "    </tr>\n",
       "  </thead>\n",
       "  <tbody>\n",
       "    <tr>\n",
       "      <th>1141560</th>\n",
       "      <td>합성수지 제조업  자동차부품 제조업                          ...</td>\n",
       "      <td>20</td>\n",
       "    </tr>\n",
       "    <tr>\n",
       "      <th>1141561</th>\n",
       "      <td>생산하도급용역업 자동차부품조립가공검사포장제조업 인력관리 및 용역업 전자부품조립가공검...</td>\n",
       "      <td>75</td>\n",
       "    </tr>\n",
       "    <tr>\n",
       "      <th>1141562</th>\n",
       "      <td>는 협동적 자치정신을 현현하여 임업의 건전한 발전을 기함을 목적으로 한다 전조의 목...</td>\n",
       "      <td>02</td>\n",
       "    </tr>\n",
       "    <tr>\n",
       "      <th>1141563</th>\n",
       "      <td>농업의 경영 및 부대사업  집단재배 및 공동작업에 관한 사업  농업에 관련된 공동...</td>\n",
       "      <td>01</td>\n",
       "    </tr>\n",
       "    <tr>\n",
       "      <th>1141564</th>\n",
       "      <td>일반교구개발업일반교구제작업교육용 컴퓨터 프로그램개발업일반교구판매업교구판매대행  로봇...</td>\n",
       "      <td>27</td>\n",
       "    </tr>\n",
       "  </tbody>\n",
       "</table>\n",
       "</div>"
      ],
      "text/plain": [
       "                                           BZ_PPOS_ITM_CTT mid\n",
       "1141560   합성수지 제조업  자동차부품 제조업                          ...  20\n",
       "1141561  생산하도급용역업 자동차부품조립가공검사포장제조업 인력관리 및 용역업 전자부품조립가공검...  75\n",
       "1141562  는 협동적 자치정신을 현현하여 임업의 건전한 발전을 기함을 목적으로 한다 전조의 목...  02\n",
       "1141563   농업의 경영 및 부대사업  집단재배 및 공동작업에 관한 사업  농업에 관련된 공동...  01\n",
       "1141564  일반교구개발업일반교구제작업교육용 컴퓨터 프로그램개발업일반교구판매업교구판매대행  로봇...  27"
      ]
     },
     "execution_count": 16,
     "metadata": {},
     "output_type": "execute_result"
    }
   ],
   "source": [
    "trn_shuffle = trn.sample(frac=1).reset_index(drop=True)\n",
    "trn_shuffle.tail()"
   ]
  },
  {
   "cell_type": "code",
   "execution_count": 18,
   "metadata": {
    "id": "GjPIAAv0svSf"
   },
   "outputs": [],
   "source": [
    "trn_shuffle.to_csv('preprocessing_data/train_data_mid.csv', index = False)"
   ]
  },
  {
   "cell_type": "code",
   "execution_count": null,
   "metadata": {
    "id": "-VMhp3SksvSg"
   },
   "outputs": [],
   "source": [
    "# 라벨링\n",
    "from sklearn.preprocessing import LabelEncoder\n",
    "encoder = LabelEncoder()\n",
    "encoder.fit(trn_shuffle['mid'])\n",
    "trn_shuffle['mid_idx'] = encoder.transform(trn_shuffle['mid'])\n",
    "trn_shuffle.head()"
   ]
  },
  {
   "cell_type": "code",
   "execution_count": null,
   "metadata": {
    "id": "Zl240H7QsvSg"
   },
   "outputs": [],
   "source": [
    "# 라벨링된 것 매핑\n",
    "mapping = dict(zip(range(len(encoder.classes_)), encoder.classes_))\n",
    "mapping"
   ]
  },
  {
   "cell_type": "code",
   "execution_count": null,
   "metadata": {
    "id": "ATtvuJGGsvSg"
   },
   "outputs": [],
   "source": [
    "trn_shuffle = trn_shuffle.loc[:,['BZ_PPOS_ITM_CTT', 'mid_idx']]\n",
    "trn_shuffle.head()"
   ]
  },
  {
   "cell_type": "code",
   "execution_count": null,
   "metadata": {
    "id": "lwS9kZKgsvSg"
   },
   "outputs": [],
   "source": [
    "trn_shuffle.to_csv('train_mid.txt', sep='\\t', index=True)"
   ]
  },
  {
   "cell_type": "markdown",
   "metadata": {
    "id": "qBGLf3eFWcNh"
   },
   "source": [
    "### 소분류"
   ]
  },
  {
   "cell_type": "code",
   "execution_count": 28,
   "metadata": {},
   "outputs": [],
   "source": [
    "train = pd.read_csv('train.csv',dtype={'KEDCD':str,'BZ_PPOS_ITM_CTT':str,'KSIC10_BZC_CD':str,'mid':str,'Big':str})\n",
    "plus = pd.read_csv('Augmentation_data.csv')"
   ]
  },
  {
   "cell_type": "code",
   "execution_count": 29,
   "metadata": {
    "colab": {
     "base_uri": "https://localhost:8080/",
     "height": 202
    },
    "id": "oKNsxuaChquu",
    "outputId": "fb9f90fa-669b-4237-bf46-2ecf979103f3"
   },
   "outputs": [
    {
     "data": {
      "text/html": [
       "<div>\n",
       "<style scoped>\n",
       "    .dataframe tbody tr th:only-of-type {\n",
       "        vertical-align: middle;\n",
       "    }\n",
       "\n",
       "    .dataframe tbody tr th {\n",
       "        vertical-align: top;\n",
       "    }\n",
       "\n",
       "    .dataframe thead th {\n",
       "        text-align: right;\n",
       "    }\n",
       "</style>\n",
       "<table border=\"1\" class=\"dataframe\">\n",
       "  <thead>\n",
       "    <tr style=\"text-align: right;\">\n",
       "      <th></th>\n",
       "      <th>Dis</th>\n",
       "      <th>Target</th>\n",
       "      <th>BZ_PPOS_ITM_CTT</th>\n",
       "    </tr>\n",
       "  </thead>\n",
       "  <tbody>\n",
       "    <tr>\n",
       "      <th>0</th>\n",
       "      <td>농업, 임업 및 어업(01~03)</td>\n",
       "      <td>A</td>\n",
       "      <td>농업 임업 및 어업0103</td>\n",
       "    </tr>\n",
       "    <tr>\n",
       "      <th>1</th>\n",
       "      <td>광업(05~08)</td>\n",
       "      <td>B</td>\n",
       "      <td>광업0508</td>\n",
       "    </tr>\n",
       "    <tr>\n",
       "      <th>2</th>\n",
       "      <td>제조업(10~34)</td>\n",
       "      <td>C</td>\n",
       "      <td>제조업1034</td>\n",
       "    </tr>\n",
       "    <tr>\n",
       "      <th>3</th>\n",
       "      <td>전기, 가스, 증기 및 공기 조절 공급업(35)</td>\n",
       "      <td>D</td>\n",
       "      <td>전기 가스 증기 및 공기 조절 공급업35</td>\n",
       "    </tr>\n",
       "    <tr>\n",
       "      <th>4</th>\n",
       "      <td>수도, 하수 및 폐기물 처리, 원료 재생업(36~39)</td>\n",
       "      <td>E</td>\n",
       "      <td>수도 하수 및 폐기물 처리 원료 재생업3639</td>\n",
       "    </tr>\n",
       "  </tbody>\n",
       "</table>\n",
       "</div>"
      ],
      "text/plain": [
       "                              Dis Target            BZ_PPOS_ITM_CTT\n",
       "0              농업, 임업 및 어업(01~03)      A             농업 임업 및 어업0103\n",
       "1                       광업(05~08)      B                     광업0508\n",
       "2                      제조업(10~34)      C                    제조업1034\n",
       "3      전기, 가스, 증기 및 공기 조절 공급업(35)      D     전기 가스 증기 및 공기 조절 공급업35\n",
       "4  수도, 하수 및 폐기물 처리, 원료 재생업(36~39)      E  수도 하수 및 폐기물 처리 원료 재생업3639"
      ]
     },
     "execution_count": 29,
     "metadata": {},
     "output_type": "execute_result"
    }
   ],
   "source": [
    "import re\n",
    "plus[\"BZ_PPOS_ITM_CTT\"] = plus[\"Dis\"].str.replace('[^\\w\\s]', '', regex=True)\n",
    "plus.head()"
   ]
  },
  {
   "cell_type": "code",
   "execution_count": 30,
   "metadata": {
    "colab": {
     "base_uri": "https://localhost:8080/",
     "height": 202
    },
    "id": "V0i5NXwmhquw",
    "outputId": "3e54eafa-510a-49f5-d8fe-85394d4cccb4"
   },
   "outputs": [
    {
     "data": {
      "text/html": [
       "<div>\n",
       "<style scoped>\n",
       "    .dataframe tbody tr th:only-of-type {\n",
       "        vertical-align: middle;\n",
       "    }\n",
       "\n",
       "    .dataframe tbody tr th {\n",
       "        vertical-align: top;\n",
       "    }\n",
       "\n",
       "    .dataframe thead th {\n",
       "        text-align: right;\n",
       "    }\n",
       "</style>\n",
       "<table border=\"1\" class=\"dataframe\">\n",
       "  <thead>\n",
       "    <tr style=\"text-align: right;\">\n",
       "      <th></th>\n",
       "      <th>Dis</th>\n",
       "      <th>Target</th>\n",
       "      <th>BZ_PPOS_ITM_CTT</th>\n",
       "    </tr>\n",
       "  </thead>\n",
       "  <tbody>\n",
       "    <tr>\n",
       "      <th>0</th>\n",
       "      <td>농업, 임업 및 어업(01~03)</td>\n",
       "      <td>A</td>\n",
       "      <td>농업 임업 및 어업</td>\n",
       "    </tr>\n",
       "    <tr>\n",
       "      <th>1</th>\n",
       "      <td>광업(05~08)</td>\n",
       "      <td>B</td>\n",
       "      <td>광업</td>\n",
       "    </tr>\n",
       "    <tr>\n",
       "      <th>2</th>\n",
       "      <td>제조업(10~34)</td>\n",
       "      <td>C</td>\n",
       "      <td>제조업</td>\n",
       "    </tr>\n",
       "    <tr>\n",
       "      <th>3</th>\n",
       "      <td>전기, 가스, 증기 및 공기 조절 공급업(35)</td>\n",
       "      <td>D</td>\n",
       "      <td>전기 가스 증기 및 공기 조절 공급업</td>\n",
       "    </tr>\n",
       "    <tr>\n",
       "      <th>4</th>\n",
       "      <td>수도, 하수 및 폐기물 처리, 원료 재생업(36~39)</td>\n",
       "      <td>E</td>\n",
       "      <td>수도 하수 및 폐기물 처리 원료 재생업</td>\n",
       "    </tr>\n",
       "  </tbody>\n",
       "</table>\n",
       "</div>"
      ],
      "text/plain": [
       "                              Dis Target        BZ_PPOS_ITM_CTT\n",
       "0              농업, 임업 및 어업(01~03)      A             농업 임업 및 어업\n",
       "1                       광업(05~08)      B                     광업\n",
       "2                      제조업(10~34)      C                    제조업\n",
       "3      전기, 가스, 증기 및 공기 조절 공급업(35)      D   전기 가스 증기 및 공기 조절 공급업\n",
       "4  수도, 하수 및 폐기물 처리, 원료 재생업(36~39)      E  수도 하수 및 폐기물 처리 원료 재생업"
      ]
     },
     "execution_count": 30,
     "metadata": {},
     "output_type": "execute_result"
    }
   ],
   "source": [
    "plus[\"BZ_PPOS_ITM_CTT\"] = plus[\"BZ_PPOS_ITM_CTT\"].str.replace('[0-9]+', '', regex=True)\n",
    "plus.head()"
   ]
  },
  {
   "cell_type": "code",
   "execution_count": 31,
   "metadata": {
    "colab": {
     "base_uri": "https://localhost:8080/",
     "height": 415
    },
    "id": "noTkq8jzhquy",
    "outputId": "3a502da9-145c-439e-b587-2745f5b3cd9d"
   },
   "outputs": [
    {
     "data": {
      "text/html": [
       "<div>\n",
       "<style scoped>\n",
       "    .dataframe tbody tr th:only-of-type {\n",
       "        vertical-align: middle;\n",
       "    }\n",
       "\n",
       "    .dataframe tbody tr th {\n",
       "        vertical-align: top;\n",
       "    }\n",
       "\n",
       "    .dataframe thead th {\n",
       "        text-align: right;\n",
       "    }\n",
       "</style>\n",
       "<table border=\"1\" class=\"dataframe\">\n",
       "  <thead>\n",
       "    <tr style=\"text-align: right;\">\n",
       "      <th></th>\n",
       "      <th>Dis</th>\n",
       "      <th>Target</th>\n",
       "      <th>BZ_PPOS_ITM_CTT</th>\n",
       "      <th>small</th>\n",
       "    </tr>\n",
       "  </thead>\n",
       "  <tbody>\n",
       "    <tr>\n",
       "      <th>0</th>\n",
       "      <td>농업, 임업 및 어업(01~03)</td>\n",
       "      <td>A</td>\n",
       "      <td>농업 임업 및 어업</td>\n",
       "      <td></td>\n",
       "    </tr>\n",
       "    <tr>\n",
       "      <th>1</th>\n",
       "      <td>광업(05~08)</td>\n",
       "      <td>B</td>\n",
       "      <td>광업</td>\n",
       "      <td></td>\n",
       "    </tr>\n",
       "    <tr>\n",
       "      <th>2</th>\n",
       "      <td>제조업(10~34)</td>\n",
       "      <td>C</td>\n",
       "      <td>제조업</td>\n",
       "      <td></td>\n",
       "    </tr>\n",
       "    <tr>\n",
       "      <th>3</th>\n",
       "      <td>전기, 가스, 증기 및 공기 조절 공급업(35)</td>\n",
       "      <td>D</td>\n",
       "      <td>전기 가스 증기 및 공기 조절 공급업</td>\n",
       "      <td></td>\n",
       "    </tr>\n",
       "    <tr>\n",
       "      <th>4</th>\n",
       "      <td>수도, 하수 및 폐기물 처리, 원료 재생업(36~39)</td>\n",
       "      <td>E</td>\n",
       "      <td>수도 하수 및 폐기물 처리 원료 재생업</td>\n",
       "      <td></td>\n",
       "    </tr>\n",
       "    <tr>\n",
       "      <th>...</th>\n",
       "      <td>...</td>\n",
       "      <td>...</td>\n",
       "      <td>...</td>\n",
       "      <td>...</td>\n",
       "    </tr>\n",
       "    <tr>\n",
       "      <th>2016</th>\n",
       "      <td>가구 내 고용활동</td>\n",
       "      <td>T97000</td>\n",
       "      <td>가구 내 고용활동</td>\n",
       "      <td>970</td>\n",
       "    </tr>\n",
       "    <tr>\n",
       "      <th>2017</th>\n",
       "      <td>자가 소비를 위한 가사 생산 활동</td>\n",
       "      <td>T98100</td>\n",
       "      <td>자가 소비를 위한 가사 생산 활동</td>\n",
       "      <td>981</td>\n",
       "    </tr>\n",
       "    <tr>\n",
       "      <th>2018</th>\n",
       "      <td>자가 소비를 위한 가사 서비스 활동</td>\n",
       "      <td>T98200</td>\n",
       "      <td>자가 소비를 위한 가사 서비스 활동</td>\n",
       "      <td>982</td>\n",
       "    </tr>\n",
       "    <tr>\n",
       "      <th>2019</th>\n",
       "      <td>주한 외국 공관</td>\n",
       "      <td>U99001</td>\n",
       "      <td>주한 외국 공관</td>\n",
       "      <td>990</td>\n",
       "    </tr>\n",
       "    <tr>\n",
       "      <th>2020</th>\n",
       "      <td>기타 국제 및 외국기관</td>\n",
       "      <td>U99009</td>\n",
       "      <td>기타 국제 및 외국기관</td>\n",
       "      <td>990</td>\n",
       "    </tr>\n",
       "  </tbody>\n",
       "</table>\n",
       "<p>2021 rows × 4 columns</p>\n",
       "</div>"
      ],
      "text/plain": [
       "                                 Dis  Target        BZ_PPOS_ITM_CTT small\n",
       "0                 농업, 임업 및 어업(01~03)       A             농업 임업 및 어업      \n",
       "1                          광업(05~08)       B                     광업      \n",
       "2                         제조업(10~34)       C                    제조업      \n",
       "3         전기, 가스, 증기 및 공기 조절 공급업(35)       D   전기 가스 증기 및 공기 조절 공급업      \n",
       "4     수도, 하수 및 폐기물 처리, 원료 재생업(36~39)       E  수도 하수 및 폐기물 처리 원료 재생업      \n",
       "...                              ...     ...                    ...   ...\n",
       "2016                       가구 내 고용활동  T97000              가구 내 고용활동   970\n",
       "2017              자가 소비를 위한 가사 생산 활동  T98100     자가 소비를 위한 가사 생산 활동   981\n",
       "2018             자가 소비를 위한 가사 서비스 활동  T98200    자가 소비를 위한 가사 서비스 활동   982\n",
       "2019                        주한 외국 공관  U99001               주한 외국 공관   990\n",
       "2020                    기타 국제 및 외국기관  U99009           기타 국제 및 외국기관   990\n",
       "\n",
       "[2021 rows x 4 columns]"
      ]
     },
     "execution_count": 31,
     "metadata": {},
     "output_type": "execute_result"
    }
   ],
   "source": [
    "plus[\"small\"] = plus[\"Target\"].str[1:4]\n",
    "plus"
   ]
  },
  {
   "cell_type": "code",
   "execution_count": 32,
   "metadata": {
    "colab": {
     "base_uri": "https://localhost:8080/"
    },
    "id": "KBXAzErAji-E",
    "outputId": "c69c9b4b-a68b-48d8-d872-332dcc01fbb9"
   },
   "outputs": [
    {
     "name": "stdout",
     "output_type": "stream",
     "text": [
      "1923\n"
     ]
    }
   ],
   "source": [
    "# 추가내용 파일 - 해당 분류에 맞게 삭제 \n",
    "for i in range(len(plus)):\n",
    "    if len(plus['small'][i])<3:\n",
    "        plus=plus.drop(index=i)\n",
    "\n",
    "print(len(plus))"
   ]
  },
  {
   "cell_type": "code",
   "execution_count": 33,
   "metadata": {
    "colab": {
     "base_uri": "https://localhost:8080/"
    },
    "id": "Sz0yD1tshquz",
    "outputId": "7ee37f9c-13eb-42ca-d07b-5b169c3045ca"
   },
   "outputs": [
    {
     "data": {
      "text/plain": [
       "array(['011', '012', '013', '014', '015', '020', '031', '032', '051',\n",
       "       '052', '061', '062', '071', '072', '080', '101', '102', '103',\n",
       "       '104', '105', '106', '107', '108', '111', '112', '120', '131',\n",
       "       '132', '133', '134', '139', '141', '142', '143', '144', '151',\n",
       "       '152', '161', '162', '163', '171', '172', '179', '181', '182',\n",
       "       '191', '192', '201', '202', '203', '204', '205', '211', '212',\n",
       "       '213', '221', '222', '231', '232', '233', '239', '241', '242',\n",
       "       '243', '251', '252', '259', '261', '262', '263', '264', '265',\n",
       "       '266', '271', '272', '273', '274', '281', '282', '283', '284',\n",
       "       '285', '289', '291', '292', '301', '302', '303', '304', '311',\n",
       "       '312', '313', '319', '320', '331', '332', '333', '334', '339',\n",
       "       '340', '351', '352', '353', '360', '370', '381', '382', '383',\n",
       "       '390', '411', '412', '421', '422', '423', '424', '425', '426',\n",
       "       '451', '452', '453', '461', '462', '463', '464', '465', '466',\n",
       "       '467', '468', '471', '472', '473', '474', '475', '476', '477',\n",
       "       '478', '479', '491', '492', '493', '494', '495', '501', '502',\n",
       "       '511', '512', '521', '529', '551', '559', '561', '562', '581',\n",
       "       '582', '591', '592', '601', '602', '611', '612', '620', '631',\n",
       "       '639', '641', '642', '649', '651', '652', '653', '661', '662',\n",
       "       '681', '682', '701', '702', '711', '712', '713', '714', '715',\n",
       "       '716', '721', '729', '731', '732', '733', '739', '741', '742',\n",
       "       '743', '751', '752', '753', '759', '761', '762', '763', '764',\n",
       "       '841', '842', '843', '844', '845', '851', '852', '853', '854',\n",
       "       '855', '856', '857', '861', '862', '863', '869', '871', '872',\n",
       "       '901', '902', '911', '912', '941', '942', '949', '951', '952',\n",
       "       '953', '961', '969', '970', '981', '982', '990'], dtype=object)"
      ]
     },
     "execution_count": 33,
     "metadata": {},
     "output_type": "execute_result"
    }
   ],
   "source": [
    "plus['small'].unique()"
   ]
  },
  {
   "cell_type": "code",
   "execution_count": 34,
   "metadata": {
    "colab": {
     "base_uri": "https://localhost:8080/",
     "height": 202
    },
    "id": "N8mrn1ZYhqu2",
    "outputId": "2609616f-08ca-4948-8690-9186991c5c8c"
   },
   "outputs": [
    {
     "data": {
      "text/html": [
       "<div>\n",
       "<style scoped>\n",
       "    .dataframe tbody tr th:only-of-type {\n",
       "        vertical-align: middle;\n",
       "    }\n",
       "\n",
       "    .dataframe tbody tr th {\n",
       "        vertical-align: top;\n",
       "    }\n",
       "\n",
       "    .dataframe thead th {\n",
       "        text-align: right;\n",
       "    }\n",
       "</style>\n",
       "<table border=\"1\" class=\"dataframe\">\n",
       "  <thead>\n",
       "    <tr style=\"text-align: right;\">\n",
       "      <th></th>\n",
       "      <th>BZ_PPOS_ITM_CTT</th>\n",
       "      <th>small</th>\n",
       "    </tr>\n",
       "  </thead>\n",
       "  <tbody>\n",
       "    <tr>\n",
       "      <th>2016</th>\n",
       "      <td>가구 내 고용활동</td>\n",
       "      <td>970</td>\n",
       "    </tr>\n",
       "    <tr>\n",
       "      <th>2017</th>\n",
       "      <td>자가 소비를 위한 가사 생산 활동</td>\n",
       "      <td>981</td>\n",
       "    </tr>\n",
       "    <tr>\n",
       "      <th>2018</th>\n",
       "      <td>자가 소비를 위한 가사 서비스 활동</td>\n",
       "      <td>982</td>\n",
       "    </tr>\n",
       "    <tr>\n",
       "      <th>2019</th>\n",
       "      <td>주한 외국 공관</td>\n",
       "      <td>990</td>\n",
       "    </tr>\n",
       "    <tr>\n",
       "      <th>2020</th>\n",
       "      <td>기타 국제 및 외국기관</td>\n",
       "      <td>990</td>\n",
       "    </tr>\n",
       "  </tbody>\n",
       "</table>\n",
       "</div>"
      ],
      "text/plain": [
       "          BZ_PPOS_ITM_CTT small\n",
       "2016            가구 내 고용활동   970\n",
       "2017   자가 소비를 위한 가사 생산 활동   981\n",
       "2018  자가 소비를 위한 가사 서비스 활동   982\n",
       "2019             주한 외국 공관   990\n",
       "2020         기타 국제 및 외국기관   990"
      ]
     },
     "execution_count": 34,
     "metadata": {},
     "output_type": "execute_result"
    }
   ],
   "source": [
    "data_small = plus.loc[:,['BZ_PPOS_ITM_CTT', 'small']]\n",
    "data_small.tail()"
   ]
  },
  {
   "cell_type": "code",
   "execution_count": 35,
   "metadata": {
    "id": "LqW_wxGZl3kP"
   },
   "outputs": [
    {
     "name": "stdout",
     "output_type": "stream",
     "text": [
      "1121856\n"
     ]
    }
   ],
   "source": [
    "ls = []\n",
    "for i in range(len(train)):\n",
    "    if len(train['KSIC10_BZC_CD'][i])<4:\n",
    "        ls.append(i)\n",
    "#         train=train.drop(index=i)\n",
    "train.drop(index=ls,inplace=True)\n",
    "print(len(train))"
   ]
  },
  {
   "cell_type": "code",
   "execution_count": 36,
   "metadata": {
    "id": "jsKATuLthqu3"
   },
   "outputs": [
    {
     "data": {
      "text/html": [
       "<div>\n",
       "<style scoped>\n",
       "    .dataframe tbody tr th:only-of-type {\n",
       "        vertical-align: middle;\n",
       "    }\n",
       "\n",
       "    .dataframe tbody tr th {\n",
       "        vertical-align: top;\n",
       "    }\n",
       "\n",
       "    .dataframe thead th {\n",
       "        text-align: right;\n",
       "    }\n",
       "</style>\n",
       "<table border=\"1\" class=\"dataframe\">\n",
       "  <thead>\n",
       "    <tr style=\"text-align: right;\">\n",
       "      <th></th>\n",
       "      <th>KEDCD</th>\n",
       "      <th>BZ_PPOS_ITM_CTT</th>\n",
       "      <th>KSIC10_BZC_CD</th>\n",
       "      <th>mid</th>\n",
       "      <th>Big</th>\n",
       "      <th>small</th>\n",
       "    </tr>\n",
       "  </thead>\n",
       "  <tbody>\n",
       "    <tr>\n",
       "      <th>0</th>\n",
       "      <td>7695516.0</td>\n",
       "      <td>농산물 판매업  전자상거래업  통신판매업농임산물 건강기능식품 건강보조식품 일반식품...</td>\n",
       "      <td>G46209</td>\n",
       "      <td>G46</td>\n",
       "      <td>G</td>\n",
       "      <td>462</td>\n",
       "    </tr>\n",
       "    <tr>\n",
       "      <th>1</th>\n",
       "      <td>8177802.0</td>\n",
       "      <td>건축공사업  토목공사업  토공사업  토목건축공사업  철근콘크리트공사업  실내인테리...</td>\n",
       "      <td>F41229</td>\n",
       "      <td>F41</td>\n",
       "      <td>F</td>\n",
       "      <td>412</td>\n",
       "    </tr>\n",
       "    <tr>\n",
       "      <th>2</th>\n",
       "      <td>8233352.0</td>\n",
       "      <td>음식점업 경양식 퓨전 한식 중식 일식  식품 제조 가공 유통 판매 도소매업  제과...</td>\n",
       "      <td>I56111</td>\n",
       "      <td>I56</td>\n",
       "      <td>I</td>\n",
       "      <td>561</td>\n",
       "    </tr>\n",
       "    <tr>\n",
       "      <th>3</th>\n",
       "      <td>991833.0</td>\n",
       "      <td>변호사의 직무에 속하는 업무  공증인의 직무에 속하는 업무  변호사법 제조에 속하...</td>\n",
       "      <td>M71101</td>\n",
       "      <td>M71</td>\n",
       "      <td>M</td>\n",
       "      <td>711</td>\n",
       "    </tr>\n",
       "    <tr>\n",
       "      <th>4</th>\n",
       "      <td>7305137.0</td>\n",
       "      <td>일반폐기물처리업  재활용사업  정화조 청소업  위 각항에 부대되는 사업일체</td>\n",
       "      <td>E38210</td>\n",
       "      <td>E38</td>\n",
       "      <td>E</td>\n",
       "      <td>382</td>\n",
       "    </tr>\n",
       "  </tbody>\n",
       "</table>\n",
       "</div>"
      ],
      "text/plain": [
       "       KEDCD                                    BZ_PPOS_ITM_CTT KSIC10_BZC_CD  \\\n",
       "0  7695516.0   농산물 판매업  전자상거래업  통신판매업농임산물 건강기능식품 건강보조식품 일반식품...        G46209   \n",
       "1  8177802.0   건축공사업  토목공사업  토공사업  토목건축공사업  철근콘크리트공사업  실내인테리...        F41229   \n",
       "2  8233352.0   음식점업 경양식 퓨전 한식 중식 일식  식품 제조 가공 유통 판매 도소매업  제과...        I56111   \n",
       "3   991833.0   변호사의 직무에 속하는 업무  공증인의 직무에 속하는 업무  변호사법 제조에 속하...        M71101   \n",
       "4  7305137.0          일반폐기물처리업  재활용사업  정화조 청소업  위 각항에 부대되는 사업일체        E38210   \n",
       "\n",
       "   mid Big small  \n",
       "0  G46   G   462  \n",
       "1  F41   F   412  \n",
       "2  I56   I   561  \n",
       "3  M71   M   711  \n",
       "4  E38   E   382  "
      ]
     },
     "execution_count": 36,
     "metadata": {},
     "output_type": "execute_result"
    }
   ],
   "source": [
    "train['small']=train['KSIC10_BZC_CD'].str[1:4]\n",
    "train.head()"
   ]
  },
  {
   "cell_type": "code",
   "execution_count": 37,
   "metadata": {
    "id": "TS9TMAOIhqu4"
   },
   "outputs": [
    {
     "data": {
      "text/html": [
       "<div>\n",
       "<style scoped>\n",
       "    .dataframe tbody tr th:only-of-type {\n",
       "        vertical-align: middle;\n",
       "    }\n",
       "\n",
       "    .dataframe tbody tr th {\n",
       "        vertical-align: top;\n",
       "    }\n",
       "\n",
       "    .dataframe thead th {\n",
       "        text-align: right;\n",
       "    }\n",
       "</style>\n",
       "<table border=\"1\" class=\"dataframe\">\n",
       "  <thead>\n",
       "    <tr style=\"text-align: right;\">\n",
       "      <th></th>\n",
       "      <th>KEDCD</th>\n",
       "      <th>BZ_PPOS_ITM_CTT</th>\n",
       "      <th>KSIC10_BZC_CD</th>\n",
       "      <th>mid</th>\n",
       "      <th>Big</th>\n",
       "      <th>small</th>\n",
       "    </tr>\n",
       "  </thead>\n",
       "  <tbody>\n",
       "    <tr>\n",
       "      <th>1123774</th>\n",
       "      <td>NaN</td>\n",
       "      <td>가구 내 고용활동</td>\n",
       "      <td>NaN</td>\n",
       "      <td>NaN</td>\n",
       "      <td>NaN</td>\n",
       "      <td>970</td>\n",
       "    </tr>\n",
       "    <tr>\n",
       "      <th>1123775</th>\n",
       "      <td>NaN</td>\n",
       "      <td>자가 소비를 위한 가사 생산 활동</td>\n",
       "      <td>NaN</td>\n",
       "      <td>NaN</td>\n",
       "      <td>NaN</td>\n",
       "      <td>981</td>\n",
       "    </tr>\n",
       "    <tr>\n",
       "      <th>1123776</th>\n",
       "      <td>NaN</td>\n",
       "      <td>자가 소비를 위한 가사 서비스 활동</td>\n",
       "      <td>NaN</td>\n",
       "      <td>NaN</td>\n",
       "      <td>NaN</td>\n",
       "      <td>982</td>\n",
       "    </tr>\n",
       "    <tr>\n",
       "      <th>1123777</th>\n",
       "      <td>NaN</td>\n",
       "      <td>주한 외국 공관</td>\n",
       "      <td>NaN</td>\n",
       "      <td>NaN</td>\n",
       "      <td>NaN</td>\n",
       "      <td>990</td>\n",
       "    </tr>\n",
       "    <tr>\n",
       "      <th>1123778</th>\n",
       "      <td>NaN</td>\n",
       "      <td>기타 국제 및 외국기관</td>\n",
       "      <td>NaN</td>\n",
       "      <td>NaN</td>\n",
       "      <td>NaN</td>\n",
       "      <td>990</td>\n",
       "    </tr>\n",
       "  </tbody>\n",
       "</table>\n",
       "</div>"
      ],
      "text/plain": [
       "        KEDCD      BZ_PPOS_ITM_CTT KSIC10_BZC_CD  mid  Big small\n",
       "1123774   NaN            가구 내 고용활동           NaN  NaN  NaN   970\n",
       "1123775   NaN   자가 소비를 위한 가사 생산 활동           NaN  NaN  NaN   981\n",
       "1123776   NaN  자가 소비를 위한 가사 서비스 활동           NaN  NaN  NaN   982\n",
       "1123777   NaN             주한 외국 공관           NaN  NaN  NaN   990\n",
       "1123778   NaN         기타 국제 및 외국기관           NaN  NaN  NaN   990"
      ]
     },
     "execution_count": 37,
     "metadata": {},
     "output_type": "execute_result"
    }
   ],
   "source": [
    "trn = pd.concat([train, data_small], ignore_index = True)\n",
    "trn.tail()"
   ]
  },
  {
   "cell_type": "code",
   "execution_count": 38,
   "metadata": {
    "id": "2xAtIZ20hqu4"
   },
   "outputs": [
    {
     "data": {
      "text/html": [
       "<div>\n",
       "<style scoped>\n",
       "    .dataframe tbody tr th:only-of-type {\n",
       "        vertical-align: middle;\n",
       "    }\n",
       "\n",
       "    .dataframe tbody tr th {\n",
       "        vertical-align: top;\n",
       "    }\n",
       "\n",
       "    .dataframe thead th {\n",
       "        text-align: right;\n",
       "    }\n",
       "</style>\n",
       "<table border=\"1\" class=\"dataframe\">\n",
       "  <thead>\n",
       "    <tr style=\"text-align: right;\">\n",
       "      <th></th>\n",
       "      <th>BZ_PPOS_ITM_CTT</th>\n",
       "      <th>small</th>\n",
       "    </tr>\n",
       "  </thead>\n",
       "  <tbody>\n",
       "    <tr>\n",
       "      <th>1123774</th>\n",
       "      <td>가구 내 고용활동</td>\n",
       "      <td>970</td>\n",
       "    </tr>\n",
       "    <tr>\n",
       "      <th>1123775</th>\n",
       "      <td>자가 소비를 위한 가사 생산 활동</td>\n",
       "      <td>981</td>\n",
       "    </tr>\n",
       "    <tr>\n",
       "      <th>1123776</th>\n",
       "      <td>자가 소비를 위한 가사 서비스 활동</td>\n",
       "      <td>982</td>\n",
       "    </tr>\n",
       "    <tr>\n",
       "      <th>1123777</th>\n",
       "      <td>주한 외국 공관</td>\n",
       "      <td>990</td>\n",
       "    </tr>\n",
       "    <tr>\n",
       "      <th>1123778</th>\n",
       "      <td>기타 국제 및 외국기관</td>\n",
       "      <td>990</td>\n",
       "    </tr>\n",
       "  </tbody>\n",
       "</table>\n",
       "</div>"
      ],
      "text/plain": [
       "             BZ_PPOS_ITM_CTT small\n",
       "1123774            가구 내 고용활동   970\n",
       "1123775   자가 소비를 위한 가사 생산 활동   981\n",
       "1123776  자가 소비를 위한 가사 서비스 활동   982\n",
       "1123777             주한 외국 공관   990\n",
       "1123778         기타 국제 및 외국기관   990"
      ]
     },
     "execution_count": 38,
     "metadata": {},
     "output_type": "execute_result"
    }
   ],
   "source": [
    "trn = trn.loc[:,['BZ_PPOS_ITM_CTT', 'small']]\n",
    "trn.tail()"
   ]
  },
  {
   "cell_type": "code",
   "execution_count": 39,
   "metadata": {
    "id": "mV06rUIfhqu5"
   },
   "outputs": [
    {
     "data": {
      "text/plain": [
       "1123779"
      ]
     },
     "execution_count": 39,
     "metadata": {},
     "output_type": "execute_result"
    }
   ],
   "source": [
    "trn =trn.dropna(axis=0)\n",
    "len(trn)"
   ]
  },
  {
   "cell_type": "code",
   "execution_count": 40,
   "metadata": {
    "id": "gT2KfQQChqu5"
   },
   "outputs": [
    {
     "data": {
      "text/html": [
       "<div>\n",
       "<style scoped>\n",
       "    .dataframe tbody tr th:only-of-type {\n",
       "        vertical-align: middle;\n",
       "    }\n",
       "\n",
       "    .dataframe tbody tr th {\n",
       "        vertical-align: top;\n",
       "    }\n",
       "\n",
       "    .dataframe thead th {\n",
       "        text-align: right;\n",
       "    }\n",
       "</style>\n",
       "<table border=\"1\" class=\"dataframe\">\n",
       "  <thead>\n",
       "    <tr style=\"text-align: right;\">\n",
       "      <th></th>\n",
       "      <th>BZ_PPOS_ITM_CTT</th>\n",
       "      <th>small</th>\n",
       "    </tr>\n",
       "  </thead>\n",
       "  <tbody>\n",
       "    <tr>\n",
       "      <th>1123774</th>\n",
       "      <td>소프트웨어 개발 및 공급업  이러닝 교육학원업 및 홍보컨설팅업  온라인 광고업  ...</td>\n",
       "      <td>582</td>\n",
       "    </tr>\n",
       "    <tr>\n",
       "      <th>1123775</th>\n",
       "      <td>제조업 무역업 전기 통신업 도소매업 서비스업 인터넷 전자상거래업 소프트웨어 자문 개...</td>\n",
       "      <td>281</td>\n",
       "    </tr>\n",
       "    <tr>\n",
       "      <th>1123776</th>\n",
       "      <td>컴퓨터 및 주변장치 소프트웨어 도매업  컴퓨터 및 주변장치 소프트웨어 소매업   ...</td>\n",
       "      <td>465</td>\n",
       "    </tr>\n",
       "    <tr>\n",
       "      <th>1123777</th>\n",
       "      <td>구역화물자동차 운송사업  특수화물 자동차 운송사업  화물자동차 운송 알선사업  보...</td>\n",
       "      <td>493</td>\n",
       "    </tr>\n",
       "    <tr>\n",
       "      <th>1123778</th>\n",
       "      <td>인쇄제조업  무역업  축산업  기타 부대되는 사업의 일체</td>\n",
       "      <td>181</td>\n",
       "    </tr>\n",
       "  </tbody>\n",
       "</table>\n",
       "</div>"
      ],
      "text/plain": [
       "                                           BZ_PPOS_ITM_CTT small\n",
       "1123774   소프트웨어 개발 및 공급업  이러닝 교육학원업 및 홍보컨설팅업  온라인 광고업  ...   582\n",
       "1123775  제조업 무역업 전기 통신업 도소매업 서비스업 인터넷 전자상거래업 소프트웨어 자문 개...   281\n",
       "1123776   컴퓨터 및 주변장치 소프트웨어 도매업  컴퓨터 및 주변장치 소프트웨어 소매업   ...   465\n",
       "1123777   구역화물자동차 운송사업  특수화물 자동차 운송사업  화물자동차 운송 알선사업  보...   493\n",
       "1123778                    인쇄제조업  무역업  축산업  기타 부대되는 사업의 일체   181"
      ]
     },
     "execution_count": 40,
     "metadata": {},
     "output_type": "execute_result"
    }
   ],
   "source": [
    "trn_shuffle = trn.sample(frac=1).reset_index(drop=True)\n",
    "trn_shuffle.tail()"
   ]
  },
  {
   "cell_type": "code",
   "execution_count": 41,
   "metadata": {
    "id": "RwZUsGljhqu6"
   },
   "outputs": [
    {
     "data": {
      "text/plain": [
       "array(['204', '473', '472', '251', '715', '423', '949', '478', '465',\n",
       "       '412', '303', '222', '259', '262', '264', '492', '479', '161',\n",
       "       '681', '461', '529', '713', '421', '464', '702', '239', '911',\n",
       "       '493', '463', '411', '857', '011', '232', '320', '729', '202',\n",
       "       '172', '422', '953', '721', '639', '752', '952', '292', '339',\n",
       "       '739', '582', '741', '742', '352', '012', '291', '263', '631',\n",
       "       '856', '302', '912', '162', '319', '468', '682', '241', '462',\n",
       "       '642', '661', '941', '612', '311', '141', '759', '649', '467',\n",
       "       '102', '424', '591', '351', '662', '561', '969', '107', '751',\n",
       "       '871', '143', '452', '233', '071', '112', '620', '581', '272',\n",
       "       '020', '340', '551', '872', '103', '285', '289', '032', '494',\n",
       "       '732', '281', '466', '383', '108', '475', '381', '476', '101',\n",
       "       '284', '192', '261', '181', '331', '014', '477', '592', '961',\n",
       "       '211', '201', '762', '451', '471', '013', '701', '763', '474',\n",
       "       '139', '370', '862', '382', '711', '426', '120', '231', '521',\n",
       "       '733', '901', '265', '179', '855', '562', '334', '641', '942',\n",
       "       '902', '761', '869', '714', '559', '312', '151', '863', '271',\n",
       "       '132', '861', '602', '274', '853', '133', '753', '221', '453',\n",
       "       '242', '171', '142', '333', '212', '144', '273', '203', '301',\n",
       "       '951', '852', '106', '712', '080', '243', '501', '282', '842',\n",
       "       '134', '313', '390', '105', '152', '283', '062', '716', '425',\n",
       "       '111', '031', '332', '213', '851', '743', '131', '205', '304',\n",
       "       '652', '653', '266', '104', '764', '163', '841', '502', '491',\n",
       "       '182', '072', '051', '015', '360', '651', '191', '495', '990',\n",
       "       '353', '512', '982', '731', '252', '843', '061', '611', '511',\n",
       "       '854', '845', '601', '844', '970', '052', '981'], dtype=object)"
      ]
     },
     "execution_count": 41,
     "metadata": {},
     "output_type": "execute_result"
    }
   ],
   "source": [
    "trn_shuffle['small'].unique()"
   ]
  },
  {
   "cell_type": "code",
   "execution_count": 42,
   "metadata": {
    "id": "ObFbWs6Xhqu8"
   },
   "outputs": [],
   "source": [
    "trn_shuffle.to_csv('preprocessing_data/train_data_small.csv', index = False)"
   ]
  },
  {
   "cell_type": "code",
   "execution_count": null,
   "metadata": {
    "id": "aIgFK4E3hqu8"
   },
   "outputs": [],
   "source": [
    "# 라벨링\n",
    "from sklearn.preprocessing import LabelEncoder\n",
    "encoder = LabelEncoder()\n",
    "encoder.fit(trn_shuffle['small'])\n",
    "trn_shuffle['small_idx'] = encoder.transform(trn_shuffle['small'])\n",
    "trn_shuffle.head()"
   ]
  },
  {
   "cell_type": "code",
   "execution_count": null,
   "metadata": {
    "id": "Cc57ZR4Bhqu9"
   },
   "outputs": [],
   "source": [
    "# 라벨링된 것 매핑\n",
    "mapping = dict(zip(range(len(encoder.classes_)), encoder.classes_))\n",
    "mapping"
   ]
  },
  {
   "cell_type": "code",
   "execution_count": null,
   "metadata": {
    "id": "xXu26IF9hqu9"
   },
   "outputs": [],
   "source": [
    "trn_shuffle = trn_shuffle.loc[:,['BZ_PPOS_ITM_CTT', 'small_idx']]\n",
    "trn_shuffle.head()"
   ]
  },
  {
   "cell_type": "code",
   "execution_count": null,
   "metadata": {
    "id": "PWZGKzrIhqu9"
   },
   "outputs": [],
   "source": [
    "trn_shuffle.to_csv('train_small.txt', sep='\\t', index=True)"
   ]
  },
  {
   "cell_type": "code",
   "execution_count": null,
   "metadata": {},
   "outputs": [],
   "source": []
  },
  {
   "cell_type": "markdown",
   "metadata": {
    "id": "EXwfKiRgWj7g"
   },
   "source": [
    "### 세세분류"
   ]
  },
  {
   "cell_type": "code",
   "execution_count": 49,
   "metadata": {
    "id": "tLsFuoAMqJIe"
   },
   "outputs": [],
   "source": [
    "train = pd.read_csv('train.csv',dtype={'KEDCD':str,'BZ_PPOS_ITM_CTT':str,'KSIC10_BZC_CD':str,'mid':str,'Big':str})\n",
    "plus = pd.read_csv('Augmentation_data.csv')"
   ]
  },
  {
   "cell_type": "code",
   "execution_count": 50,
   "metadata": {
    "colab": {
     "base_uri": "https://localhost:8080/",
     "height": 202
    },
    "id": "TMwbblw9qJIg",
    "outputId": "2f37295a-773c-4bce-9b13-8b00d8d8b4eb"
   },
   "outputs": [
    {
     "data": {
      "text/html": [
       "<div>\n",
       "<style scoped>\n",
       "    .dataframe tbody tr th:only-of-type {\n",
       "        vertical-align: middle;\n",
       "    }\n",
       "\n",
       "    .dataframe tbody tr th {\n",
       "        vertical-align: top;\n",
       "    }\n",
       "\n",
       "    .dataframe thead th {\n",
       "        text-align: right;\n",
       "    }\n",
       "</style>\n",
       "<table border=\"1\" class=\"dataframe\">\n",
       "  <thead>\n",
       "    <tr style=\"text-align: right;\">\n",
       "      <th></th>\n",
       "      <th>Dis</th>\n",
       "      <th>Target</th>\n",
       "      <th>BZ_PPOS_ITM_CTT</th>\n",
       "    </tr>\n",
       "  </thead>\n",
       "  <tbody>\n",
       "    <tr>\n",
       "      <th>0</th>\n",
       "      <td>농업, 임업 및 어업(01~03)</td>\n",
       "      <td>A</td>\n",
       "      <td>농업 임업 및 어업0103</td>\n",
       "    </tr>\n",
       "    <tr>\n",
       "      <th>1</th>\n",
       "      <td>광업(05~08)</td>\n",
       "      <td>B</td>\n",
       "      <td>광업0508</td>\n",
       "    </tr>\n",
       "    <tr>\n",
       "      <th>2</th>\n",
       "      <td>제조업(10~34)</td>\n",
       "      <td>C</td>\n",
       "      <td>제조업1034</td>\n",
       "    </tr>\n",
       "    <tr>\n",
       "      <th>3</th>\n",
       "      <td>전기, 가스, 증기 및 공기 조절 공급업(35)</td>\n",
       "      <td>D</td>\n",
       "      <td>전기 가스 증기 및 공기 조절 공급업35</td>\n",
       "    </tr>\n",
       "    <tr>\n",
       "      <th>4</th>\n",
       "      <td>수도, 하수 및 폐기물 처리, 원료 재생업(36~39)</td>\n",
       "      <td>E</td>\n",
       "      <td>수도 하수 및 폐기물 처리 원료 재생업3639</td>\n",
       "    </tr>\n",
       "  </tbody>\n",
       "</table>\n",
       "</div>"
      ],
      "text/plain": [
       "                              Dis Target            BZ_PPOS_ITM_CTT\n",
       "0              농업, 임업 및 어업(01~03)      A             농업 임업 및 어업0103\n",
       "1                       광업(05~08)      B                     광업0508\n",
       "2                      제조업(10~34)      C                    제조업1034\n",
       "3      전기, 가스, 증기 및 공기 조절 공급업(35)      D     전기 가스 증기 및 공기 조절 공급업35\n",
       "4  수도, 하수 및 폐기물 처리, 원료 재생업(36~39)      E  수도 하수 및 폐기물 처리 원료 재생업3639"
      ]
     },
     "execution_count": 50,
     "metadata": {},
     "output_type": "execute_result"
    }
   ],
   "source": [
    "import re\n",
    "plus[\"BZ_PPOS_ITM_CTT\"] = plus[\"Dis\"].str.replace('[^\\w\\s]', '', regex=True)\n",
    "plus.head()"
   ]
  },
  {
   "cell_type": "code",
   "execution_count": 51,
   "metadata": {
    "colab": {
     "base_uri": "https://localhost:8080/",
     "height": 202
    },
    "id": "WCk1nV5vqJIo",
    "outputId": "ec9b514d-1c47-4cfd-a123-d7c4629831d8"
   },
   "outputs": [
    {
     "data": {
      "text/html": [
       "<div>\n",
       "<style scoped>\n",
       "    .dataframe tbody tr th:only-of-type {\n",
       "        vertical-align: middle;\n",
       "    }\n",
       "\n",
       "    .dataframe tbody tr th {\n",
       "        vertical-align: top;\n",
       "    }\n",
       "\n",
       "    .dataframe thead th {\n",
       "        text-align: right;\n",
       "    }\n",
       "</style>\n",
       "<table border=\"1\" class=\"dataframe\">\n",
       "  <thead>\n",
       "    <tr style=\"text-align: right;\">\n",
       "      <th></th>\n",
       "      <th>Dis</th>\n",
       "      <th>Target</th>\n",
       "      <th>BZ_PPOS_ITM_CTT</th>\n",
       "    </tr>\n",
       "  </thead>\n",
       "  <tbody>\n",
       "    <tr>\n",
       "      <th>0</th>\n",
       "      <td>농업, 임업 및 어업(01~03)</td>\n",
       "      <td>A</td>\n",
       "      <td>농업 임업 및 어업</td>\n",
       "    </tr>\n",
       "    <tr>\n",
       "      <th>1</th>\n",
       "      <td>광업(05~08)</td>\n",
       "      <td>B</td>\n",
       "      <td>광업</td>\n",
       "    </tr>\n",
       "    <tr>\n",
       "      <th>2</th>\n",
       "      <td>제조업(10~34)</td>\n",
       "      <td>C</td>\n",
       "      <td>제조업</td>\n",
       "    </tr>\n",
       "    <tr>\n",
       "      <th>3</th>\n",
       "      <td>전기, 가스, 증기 및 공기 조절 공급업(35)</td>\n",
       "      <td>D</td>\n",
       "      <td>전기 가스 증기 및 공기 조절 공급업</td>\n",
       "    </tr>\n",
       "    <tr>\n",
       "      <th>4</th>\n",
       "      <td>수도, 하수 및 폐기물 처리, 원료 재생업(36~39)</td>\n",
       "      <td>E</td>\n",
       "      <td>수도 하수 및 폐기물 처리 원료 재생업</td>\n",
       "    </tr>\n",
       "  </tbody>\n",
       "</table>\n",
       "</div>"
      ],
      "text/plain": [
       "                              Dis Target        BZ_PPOS_ITM_CTT\n",
       "0              농업, 임업 및 어업(01~03)      A             농업 임업 및 어업\n",
       "1                       광업(05~08)      B                     광업\n",
       "2                      제조업(10~34)      C                    제조업\n",
       "3      전기, 가스, 증기 및 공기 조절 공급업(35)      D   전기 가스 증기 및 공기 조절 공급업\n",
       "4  수도, 하수 및 폐기물 처리, 원료 재생업(36~39)      E  수도 하수 및 폐기물 처리 원료 재생업"
      ]
     },
     "execution_count": 51,
     "metadata": {},
     "output_type": "execute_result"
    }
   ],
   "source": [
    "plus[\"BZ_PPOS_ITM_CTT\"] = plus[\"BZ_PPOS_ITM_CTT\"].str.replace('[0-9]+', '', regex=True)\n",
    "plus.head()"
   ]
  },
  {
   "cell_type": "code",
   "execution_count": 52,
   "metadata": {
    "colab": {
     "base_uri": "https://localhost:8080/",
     "height": 415
    },
    "id": "35EEdwwEqJIq",
    "outputId": "268edf67-afa1-4875-eb13-a28b7848277f"
   },
   "outputs": [
    {
     "data": {
      "text/html": [
       "<div>\n",
       "<style scoped>\n",
       "    .dataframe tbody tr th:only-of-type {\n",
       "        vertical-align: middle;\n",
       "    }\n",
       "\n",
       "    .dataframe tbody tr th {\n",
       "        vertical-align: top;\n",
       "    }\n",
       "\n",
       "    .dataframe thead th {\n",
       "        text-align: right;\n",
       "    }\n",
       "</style>\n",
       "<table border=\"1\" class=\"dataframe\">\n",
       "  <thead>\n",
       "    <tr style=\"text-align: right;\">\n",
       "      <th></th>\n",
       "      <th>Dis</th>\n",
       "      <th>Target</th>\n",
       "      <th>BZ_PPOS_ITM_CTT</th>\n",
       "      <th>sese</th>\n",
       "    </tr>\n",
       "  </thead>\n",
       "  <tbody>\n",
       "    <tr>\n",
       "      <th>0</th>\n",
       "      <td>농업, 임업 및 어업(01~03)</td>\n",
       "      <td>A</td>\n",
       "      <td>농업 임업 및 어업</td>\n",
       "      <td></td>\n",
       "    </tr>\n",
       "    <tr>\n",
       "      <th>1</th>\n",
       "      <td>광업(05~08)</td>\n",
       "      <td>B</td>\n",
       "      <td>광업</td>\n",
       "      <td></td>\n",
       "    </tr>\n",
       "    <tr>\n",
       "      <th>2</th>\n",
       "      <td>제조업(10~34)</td>\n",
       "      <td>C</td>\n",
       "      <td>제조업</td>\n",
       "      <td></td>\n",
       "    </tr>\n",
       "    <tr>\n",
       "      <th>3</th>\n",
       "      <td>전기, 가스, 증기 및 공기 조절 공급업(35)</td>\n",
       "      <td>D</td>\n",
       "      <td>전기 가스 증기 및 공기 조절 공급업</td>\n",
       "      <td></td>\n",
       "    </tr>\n",
       "    <tr>\n",
       "      <th>4</th>\n",
       "      <td>수도, 하수 및 폐기물 처리, 원료 재생업(36~39)</td>\n",
       "      <td>E</td>\n",
       "      <td>수도 하수 및 폐기물 처리 원료 재생업</td>\n",
       "      <td></td>\n",
       "    </tr>\n",
       "    <tr>\n",
       "      <th>...</th>\n",
       "      <td>...</td>\n",
       "      <td>...</td>\n",
       "      <td>...</td>\n",
       "      <td>...</td>\n",
       "    </tr>\n",
       "    <tr>\n",
       "      <th>2016</th>\n",
       "      <td>가구 내 고용활동</td>\n",
       "      <td>T97000</td>\n",
       "      <td>가구 내 고용활동</td>\n",
       "      <td>97000</td>\n",
       "    </tr>\n",
       "    <tr>\n",
       "      <th>2017</th>\n",
       "      <td>자가 소비를 위한 가사 생산 활동</td>\n",
       "      <td>T98100</td>\n",
       "      <td>자가 소비를 위한 가사 생산 활동</td>\n",
       "      <td>98100</td>\n",
       "    </tr>\n",
       "    <tr>\n",
       "      <th>2018</th>\n",
       "      <td>자가 소비를 위한 가사 서비스 활동</td>\n",
       "      <td>T98200</td>\n",
       "      <td>자가 소비를 위한 가사 서비스 활동</td>\n",
       "      <td>98200</td>\n",
       "    </tr>\n",
       "    <tr>\n",
       "      <th>2019</th>\n",
       "      <td>주한 외국 공관</td>\n",
       "      <td>U99001</td>\n",
       "      <td>주한 외국 공관</td>\n",
       "      <td>99001</td>\n",
       "    </tr>\n",
       "    <tr>\n",
       "      <th>2020</th>\n",
       "      <td>기타 국제 및 외국기관</td>\n",
       "      <td>U99009</td>\n",
       "      <td>기타 국제 및 외국기관</td>\n",
       "      <td>99009</td>\n",
       "    </tr>\n",
       "  </tbody>\n",
       "</table>\n",
       "<p>2021 rows × 4 columns</p>\n",
       "</div>"
      ],
      "text/plain": [
       "                                 Dis  Target        BZ_PPOS_ITM_CTT   sese\n",
       "0                 농업, 임업 및 어업(01~03)       A             농업 임업 및 어업       \n",
       "1                          광업(05~08)       B                     광업       \n",
       "2                         제조업(10~34)       C                    제조업       \n",
       "3         전기, 가스, 증기 및 공기 조절 공급업(35)       D   전기 가스 증기 및 공기 조절 공급업       \n",
       "4     수도, 하수 및 폐기물 처리, 원료 재생업(36~39)       E  수도 하수 및 폐기물 처리 원료 재생업       \n",
       "...                              ...     ...                    ...    ...\n",
       "2016                       가구 내 고용활동  T97000              가구 내 고용활동  97000\n",
       "2017              자가 소비를 위한 가사 생산 활동  T98100     자가 소비를 위한 가사 생산 활동  98100\n",
       "2018             자가 소비를 위한 가사 서비스 활동  T98200    자가 소비를 위한 가사 서비스 활동  98200\n",
       "2019                        주한 외국 공관  U99001               주한 외국 공관  99001\n",
       "2020                    기타 국제 및 외국기관  U99009           기타 국제 및 외국기관  99009\n",
       "\n",
       "[2021 rows x 4 columns]"
      ]
     },
     "execution_count": 52,
     "metadata": {},
     "output_type": "execute_result"
    }
   ],
   "source": [
    "plus[\"sese\"] = plus[\"Target\"].str[1:]\n",
    "plus"
   ]
  },
  {
   "cell_type": "code",
   "execution_count": 53,
   "metadata": {
    "colab": {
     "base_uri": "https://localhost:8080/"
    },
    "id": "0qY7_9xCqJIr",
    "outputId": "695fd2a0-7d5a-4d0e-d7cb-932e2dff3d1b"
   },
   "outputs": [
    {
     "name": "stdout",
     "output_type": "stream",
     "text": [
      "1196\n"
     ]
    }
   ],
   "source": [
    "# 추가내용 파일 - 해당 분류에 맞게 삭제 \n",
    "ls = []\n",
    "for i in range(len(plus)):\n",
    "    if len(plus['sese'][i])<5:\n",
    "        ls.append(i)\n",
    "        plus=plus.drop(index=i)\n",
    "\n",
    "print(len(plus))"
   ]
  },
  {
   "cell_type": "code",
   "execution_count": 54,
   "metadata": {
    "colab": {
     "base_uri": "https://localhost:8080/"
    },
    "id": "3TmTBZg6qJIs",
    "outputId": "e7d52d10-27ba-4810-8802-ea045b6f11ab"
   },
   "outputs": [
    {
     "data": {
      "text/plain": [
       "array(['01110', '01121', '01122', ..., '98200', '99001', '99009'],\n",
       "      dtype=object)"
      ]
     },
     "execution_count": 54,
     "metadata": {},
     "output_type": "execute_result"
    }
   ],
   "source": [
    "plus['sese'].unique()"
   ]
  },
  {
   "cell_type": "code",
   "execution_count": 55,
   "metadata": {
    "colab": {
     "base_uri": "https://localhost:8080/",
     "height": 202
    },
    "id": "bolG8qqoqJIt",
    "outputId": "1ff4617c-4761-4192-be55-7371313de925"
   },
   "outputs": [
    {
     "data": {
      "text/html": [
       "<div>\n",
       "<style scoped>\n",
       "    .dataframe tbody tr th:only-of-type {\n",
       "        vertical-align: middle;\n",
       "    }\n",
       "\n",
       "    .dataframe tbody tr th {\n",
       "        vertical-align: top;\n",
       "    }\n",
       "\n",
       "    .dataframe thead th {\n",
       "        text-align: right;\n",
       "    }\n",
       "</style>\n",
       "<table border=\"1\" class=\"dataframe\">\n",
       "  <thead>\n",
       "    <tr style=\"text-align: right;\">\n",
       "      <th></th>\n",
       "      <th>BZ_PPOS_ITM_CTT</th>\n",
       "      <th>sese</th>\n",
       "    </tr>\n",
       "  </thead>\n",
       "  <tbody>\n",
       "    <tr>\n",
       "      <th>2016</th>\n",
       "      <td>가구 내 고용활동</td>\n",
       "      <td>97000</td>\n",
       "    </tr>\n",
       "    <tr>\n",
       "      <th>2017</th>\n",
       "      <td>자가 소비를 위한 가사 생산 활동</td>\n",
       "      <td>98100</td>\n",
       "    </tr>\n",
       "    <tr>\n",
       "      <th>2018</th>\n",
       "      <td>자가 소비를 위한 가사 서비스 활동</td>\n",
       "      <td>98200</td>\n",
       "    </tr>\n",
       "    <tr>\n",
       "      <th>2019</th>\n",
       "      <td>주한 외국 공관</td>\n",
       "      <td>99001</td>\n",
       "    </tr>\n",
       "    <tr>\n",
       "      <th>2020</th>\n",
       "      <td>기타 국제 및 외국기관</td>\n",
       "      <td>99009</td>\n",
       "    </tr>\n",
       "  </tbody>\n",
       "</table>\n",
       "</div>"
      ],
      "text/plain": [
       "          BZ_PPOS_ITM_CTT   sese\n",
       "2016            가구 내 고용활동  97000\n",
       "2017   자가 소비를 위한 가사 생산 활동  98100\n",
       "2018  자가 소비를 위한 가사 서비스 활동  98200\n",
       "2019             주한 외국 공관  99001\n",
       "2020         기타 국제 및 외국기관  99009"
      ]
     },
     "execution_count": 55,
     "metadata": {},
     "output_type": "execute_result"
    }
   ],
   "source": [
    "data_sese = plus.loc[:,['BZ_PPOS_ITM_CTT', 'sese']]\n",
    "data_sese.tail()"
   ]
  },
  {
   "cell_type": "code",
   "execution_count": 56,
   "metadata": {
    "id": "iZxKKhQSqJIu"
   },
   "outputs": [
    {
     "name": "stdout",
     "output_type": "stream",
     "text": [
      "1081146\n"
     ]
    }
   ],
   "source": [
    "ls = []\n",
    "for i in range(len(train)):\n",
    "    if len(train['KSIC10_BZC_CD'][i])<6:\n",
    "#         train=train.drop(index=i)\n",
    "        ls.append(i)\n",
    "train.drop(index=ls,inplace=True)\n",
    "print(len(train))"
   ]
  },
  {
   "cell_type": "code",
   "execution_count": 57,
   "metadata": {
    "id": "czd0Cka3qJIv"
   },
   "outputs": [
    {
     "data": {
      "text/html": [
       "<div>\n",
       "<style scoped>\n",
       "    .dataframe tbody tr th:only-of-type {\n",
       "        vertical-align: middle;\n",
       "    }\n",
       "\n",
       "    .dataframe tbody tr th {\n",
       "        vertical-align: top;\n",
       "    }\n",
       "\n",
       "    .dataframe thead th {\n",
       "        text-align: right;\n",
       "    }\n",
       "</style>\n",
       "<table border=\"1\" class=\"dataframe\">\n",
       "  <thead>\n",
       "    <tr style=\"text-align: right;\">\n",
       "      <th></th>\n",
       "      <th>KEDCD</th>\n",
       "      <th>BZ_PPOS_ITM_CTT</th>\n",
       "      <th>KSIC10_BZC_CD</th>\n",
       "      <th>mid</th>\n",
       "      <th>Big</th>\n",
       "      <th>sese</th>\n",
       "    </tr>\n",
       "  </thead>\n",
       "  <tbody>\n",
       "    <tr>\n",
       "      <th>0</th>\n",
       "      <td>7695516.0</td>\n",
       "      <td>농산물 판매업  전자상거래업  통신판매업농임산물 건강기능식품 건강보조식품 일반식품...</td>\n",
       "      <td>G46209</td>\n",
       "      <td>G46</td>\n",
       "      <td>G</td>\n",
       "      <td>46209</td>\n",
       "    </tr>\n",
       "    <tr>\n",
       "      <th>1</th>\n",
       "      <td>8177802.0</td>\n",
       "      <td>건축공사업  토목공사업  토공사업  토목건축공사업  철근콘크리트공사업  실내인테리...</td>\n",
       "      <td>F41229</td>\n",
       "      <td>F41</td>\n",
       "      <td>F</td>\n",
       "      <td>41229</td>\n",
       "    </tr>\n",
       "    <tr>\n",
       "      <th>2</th>\n",
       "      <td>8233352.0</td>\n",
       "      <td>음식점업 경양식 퓨전 한식 중식 일식  식품 제조 가공 유통 판매 도소매업  제과...</td>\n",
       "      <td>I56111</td>\n",
       "      <td>I56</td>\n",
       "      <td>I</td>\n",
       "      <td>56111</td>\n",
       "    </tr>\n",
       "    <tr>\n",
       "      <th>3</th>\n",
       "      <td>991833.0</td>\n",
       "      <td>변호사의 직무에 속하는 업무  공증인의 직무에 속하는 업무  변호사법 제조에 속하...</td>\n",
       "      <td>M71101</td>\n",
       "      <td>M71</td>\n",
       "      <td>M</td>\n",
       "      <td>71101</td>\n",
       "    </tr>\n",
       "    <tr>\n",
       "      <th>4</th>\n",
       "      <td>7305137.0</td>\n",
       "      <td>일반폐기물처리업  재활용사업  정화조 청소업  위 각항에 부대되는 사업일체</td>\n",
       "      <td>E38210</td>\n",
       "      <td>E38</td>\n",
       "      <td>E</td>\n",
       "      <td>38210</td>\n",
       "    </tr>\n",
       "  </tbody>\n",
       "</table>\n",
       "</div>"
      ],
      "text/plain": [
       "       KEDCD                                    BZ_PPOS_ITM_CTT KSIC10_BZC_CD  \\\n",
       "0  7695516.0   농산물 판매업  전자상거래업  통신판매업농임산물 건강기능식품 건강보조식품 일반식품...        G46209   \n",
       "1  8177802.0   건축공사업  토목공사업  토공사업  토목건축공사업  철근콘크리트공사업  실내인테리...        F41229   \n",
       "2  8233352.0   음식점업 경양식 퓨전 한식 중식 일식  식품 제조 가공 유통 판매 도소매업  제과...        I56111   \n",
       "3   991833.0   변호사의 직무에 속하는 업무  공증인의 직무에 속하는 업무  변호사법 제조에 속하...        M71101   \n",
       "4  7305137.0          일반폐기물처리업  재활용사업  정화조 청소업  위 각항에 부대되는 사업일체        E38210   \n",
       "\n",
       "   mid Big   sese  \n",
       "0  G46   G  46209  \n",
       "1  F41   F  41229  \n",
       "2  I56   I  56111  \n",
       "3  M71   M  71101  \n",
       "4  E38   E  38210  "
      ]
     },
     "execution_count": 57,
     "metadata": {},
     "output_type": "execute_result"
    }
   ],
   "source": [
    "train['sese']=train['KSIC10_BZC_CD'].str[1:6]\n",
    "train.head()"
   ]
  },
  {
   "cell_type": "code",
   "execution_count": 58,
   "metadata": {
    "id": "SeoPwcxDqJIv"
   },
   "outputs": [
    {
     "data": {
      "text/html": [
       "<div>\n",
       "<style scoped>\n",
       "    .dataframe tbody tr th:only-of-type {\n",
       "        vertical-align: middle;\n",
       "    }\n",
       "\n",
       "    .dataframe tbody tr th {\n",
       "        vertical-align: top;\n",
       "    }\n",
       "\n",
       "    .dataframe thead th {\n",
       "        text-align: right;\n",
       "    }\n",
       "</style>\n",
       "<table border=\"1\" class=\"dataframe\">\n",
       "  <thead>\n",
       "    <tr style=\"text-align: right;\">\n",
       "      <th></th>\n",
       "      <th>KEDCD</th>\n",
       "      <th>BZ_PPOS_ITM_CTT</th>\n",
       "      <th>KSIC10_BZC_CD</th>\n",
       "      <th>mid</th>\n",
       "      <th>Big</th>\n",
       "      <th>sese</th>\n",
       "    </tr>\n",
       "  </thead>\n",
       "  <tbody>\n",
       "    <tr>\n",
       "      <th>1082337</th>\n",
       "      <td>NaN</td>\n",
       "      <td>가구 내 고용활동</td>\n",
       "      <td>NaN</td>\n",
       "      <td>NaN</td>\n",
       "      <td>NaN</td>\n",
       "      <td>97000</td>\n",
       "    </tr>\n",
       "    <tr>\n",
       "      <th>1082338</th>\n",
       "      <td>NaN</td>\n",
       "      <td>자가 소비를 위한 가사 생산 활동</td>\n",
       "      <td>NaN</td>\n",
       "      <td>NaN</td>\n",
       "      <td>NaN</td>\n",
       "      <td>98100</td>\n",
       "    </tr>\n",
       "    <tr>\n",
       "      <th>1082339</th>\n",
       "      <td>NaN</td>\n",
       "      <td>자가 소비를 위한 가사 서비스 활동</td>\n",
       "      <td>NaN</td>\n",
       "      <td>NaN</td>\n",
       "      <td>NaN</td>\n",
       "      <td>98200</td>\n",
       "    </tr>\n",
       "    <tr>\n",
       "      <th>1082340</th>\n",
       "      <td>NaN</td>\n",
       "      <td>주한 외국 공관</td>\n",
       "      <td>NaN</td>\n",
       "      <td>NaN</td>\n",
       "      <td>NaN</td>\n",
       "      <td>99001</td>\n",
       "    </tr>\n",
       "    <tr>\n",
       "      <th>1082341</th>\n",
       "      <td>NaN</td>\n",
       "      <td>기타 국제 및 외국기관</td>\n",
       "      <td>NaN</td>\n",
       "      <td>NaN</td>\n",
       "      <td>NaN</td>\n",
       "      <td>99009</td>\n",
       "    </tr>\n",
       "  </tbody>\n",
       "</table>\n",
       "</div>"
      ],
      "text/plain": [
       "        KEDCD      BZ_PPOS_ITM_CTT KSIC10_BZC_CD  mid  Big   sese\n",
       "1082337   NaN            가구 내 고용활동           NaN  NaN  NaN  97000\n",
       "1082338   NaN   자가 소비를 위한 가사 생산 활동           NaN  NaN  NaN  98100\n",
       "1082339   NaN  자가 소비를 위한 가사 서비스 활동           NaN  NaN  NaN  98200\n",
       "1082340   NaN             주한 외국 공관           NaN  NaN  NaN  99001\n",
       "1082341   NaN         기타 국제 및 외국기관           NaN  NaN  NaN  99009"
      ]
     },
     "execution_count": 58,
     "metadata": {},
     "output_type": "execute_result"
    }
   ],
   "source": [
    "trn = pd.concat([train, data_sese], ignore_index = True)\n",
    "trn.tail()"
   ]
  },
  {
   "cell_type": "code",
   "execution_count": 59,
   "metadata": {
    "id": "T_8C0Qy5qJIw"
   },
   "outputs": [
    {
     "data": {
      "text/html": [
       "<div>\n",
       "<style scoped>\n",
       "    .dataframe tbody tr th:only-of-type {\n",
       "        vertical-align: middle;\n",
       "    }\n",
       "\n",
       "    .dataframe tbody tr th {\n",
       "        vertical-align: top;\n",
       "    }\n",
       "\n",
       "    .dataframe thead th {\n",
       "        text-align: right;\n",
       "    }\n",
       "</style>\n",
       "<table border=\"1\" class=\"dataframe\">\n",
       "  <thead>\n",
       "    <tr style=\"text-align: right;\">\n",
       "      <th></th>\n",
       "      <th>BZ_PPOS_ITM_CTT</th>\n",
       "      <th>sese</th>\n",
       "    </tr>\n",
       "  </thead>\n",
       "  <tbody>\n",
       "    <tr>\n",
       "      <th>1082337</th>\n",
       "      <td>가구 내 고용활동</td>\n",
       "      <td>97000</td>\n",
       "    </tr>\n",
       "    <tr>\n",
       "      <th>1082338</th>\n",
       "      <td>자가 소비를 위한 가사 생산 활동</td>\n",
       "      <td>98100</td>\n",
       "    </tr>\n",
       "    <tr>\n",
       "      <th>1082339</th>\n",
       "      <td>자가 소비를 위한 가사 서비스 활동</td>\n",
       "      <td>98200</td>\n",
       "    </tr>\n",
       "    <tr>\n",
       "      <th>1082340</th>\n",
       "      <td>주한 외국 공관</td>\n",
       "      <td>99001</td>\n",
       "    </tr>\n",
       "    <tr>\n",
       "      <th>1082341</th>\n",
       "      <td>기타 국제 및 외국기관</td>\n",
       "      <td>99009</td>\n",
       "    </tr>\n",
       "  </tbody>\n",
       "</table>\n",
       "</div>"
      ],
      "text/plain": [
       "             BZ_PPOS_ITM_CTT   sese\n",
       "1082337            가구 내 고용활동  97000\n",
       "1082338   자가 소비를 위한 가사 생산 활동  98100\n",
       "1082339  자가 소비를 위한 가사 서비스 활동  98200\n",
       "1082340             주한 외국 공관  99001\n",
       "1082341         기타 국제 및 외국기관  99009"
      ]
     },
     "execution_count": 59,
     "metadata": {},
     "output_type": "execute_result"
    }
   ],
   "source": [
    "trn = trn.loc[:,['BZ_PPOS_ITM_CTT', 'sese']]\n",
    "trn.tail()"
   ]
  },
  {
   "cell_type": "code",
   "execution_count": 60,
   "metadata": {
    "id": "Coy3P2d3qJIx"
   },
   "outputs": [
    {
     "data": {
      "text/plain": [
       "1082342"
      ]
     },
     "execution_count": 60,
     "metadata": {},
     "output_type": "execute_result"
    }
   ],
   "source": [
    "trn =trn.dropna(axis=0)\n",
    "len(trn)"
   ]
  },
  {
   "cell_type": "code",
   "execution_count": 61,
   "metadata": {
    "id": "i6GNj88AqJIy"
   },
   "outputs": [
    {
     "data": {
      "text/html": [
       "<div>\n",
       "<style scoped>\n",
       "    .dataframe tbody tr th:only-of-type {\n",
       "        vertical-align: middle;\n",
       "    }\n",
       "\n",
       "    .dataframe tbody tr th {\n",
       "        vertical-align: top;\n",
       "    }\n",
       "\n",
       "    .dataframe thead th {\n",
       "        text-align: right;\n",
       "    }\n",
       "</style>\n",
       "<table border=\"1\" class=\"dataframe\">\n",
       "  <thead>\n",
       "    <tr style=\"text-align: right;\">\n",
       "      <th></th>\n",
       "      <th>BZ_PPOS_ITM_CTT</th>\n",
       "      <th>sese</th>\n",
       "    </tr>\n",
       "  </thead>\n",
       "  <tbody>\n",
       "    <tr>\n",
       "      <th>1082337</th>\n",
       "      <td>적 농업경영을 통하여 생산성을 높이고 농산물의 출하가공수출등을 통하여 조합원의 소 ...</td>\n",
       "      <td>01159</td>\n",
       "    </tr>\n",
       "    <tr>\n",
       "      <th>1082338</th>\n",
       "      <td>유류 보관판매 및 도소매업  유류 수송업  주유소 운영업  섬유 유제 제조 및 도...</td>\n",
       "      <td>46712</td>\n",
       "    </tr>\n",
       "    <tr>\n",
       "      <th>1082339</th>\n",
       "      <td>철구조물 제작업  부동산임대업  토목공사업  건설장비 판매업  위 각호에 부대되는...</td>\n",
       "      <td>42600</td>\n",
       "    </tr>\n",
       "    <tr>\n",
       "      <th>1082340</th>\n",
       "      <td>피에프사업 부동산개발 공급 매매 임대업 기타관련서비스업 주택법에 의한 주택건설사업 ...</td>\n",
       "      <td>68129</td>\n",
       "    </tr>\n",
       "    <tr>\n",
       "      <th>1082341</th>\n",
       "      <td>조합법인은 협업적 농업경영을 통하여 생산성을 높이고 농산물의 공동출하 및 가공 수출...</td>\n",
       "      <td>01159</td>\n",
       "    </tr>\n",
       "  </tbody>\n",
       "</table>\n",
       "</div>"
      ],
      "text/plain": [
       "                                           BZ_PPOS_ITM_CTT   sese\n",
       "1082337  적 농업경영을 통하여 생산성을 높이고 농산물의 출하가공수출등을 통하여 조합원의 소 ...  01159\n",
       "1082338   유류 보관판매 및 도소매업  유류 수송업  주유소 운영업  섬유 유제 제조 및 도...  46712\n",
       "1082339   철구조물 제작업  부동산임대업  토목공사업  건설장비 판매업  위 각호에 부대되는...  42600\n",
       "1082340  피에프사업 부동산개발 공급 매매 임대업 기타관련서비스업 주택법에 의한 주택건설사업 ...  68129\n",
       "1082341  조합법인은 협업적 농업경영을 통하여 생산성을 높이고 농산물의 공동출하 및 가공 수출...  01159"
      ]
     },
     "execution_count": 61,
     "metadata": {},
     "output_type": "execute_result"
    }
   ],
   "source": [
    "trn_shuffle = trn.sample(frac=1).reset_index(drop=True)\n",
    "trn_shuffle.tail()"
   ]
  },
  {
   "cell_type": "code",
   "execution_count": 62,
   "metadata": {
    "id": "nxYLE-QiqJIz"
   },
   "outputs": [],
   "source": [
    "trn_shuffle.to_csv('preprocessing_data/train_data_sese.csv', index = False)"
   ]
  },
  {
   "cell_type": "code",
   "execution_count": null,
   "metadata": {
    "id": "GpQPGk6SqJIz"
   },
   "outputs": [],
   "source": [
    "# 라벨링\n",
    "from sklearn.preprocessing import LabelEncoder\n",
    "encoder = LabelEncoder()\n",
    "encoder.fit(trn_shuffle['sese'])\n",
    "trn_shuffle['sese_idx'] = encoder.transform(trn_shuffle['sese'])\n",
    "trn_shuffle.head()"
   ]
  },
  {
   "cell_type": "code",
   "execution_count": null,
   "metadata": {
    "id": "4NkCCfn5qJI0"
   },
   "outputs": [],
   "source": [
    "# 라벨링된 것 매핑\n",
    "mapping = dict(zip(range(len(encoder.classes_)), encoder.classes_))\n",
    "mapping"
   ]
  },
  {
   "cell_type": "code",
   "execution_count": null,
   "metadata": {
    "id": "cNp2tLAfqJI0"
   },
   "outputs": [],
   "source": [
    "trn_shuffle = trn_shuffle.loc[:,['BZ_PPOS_ITM_CTT', 'sese_idx']]\n",
    "trn_shuffle.head()"
   ]
  },
  {
   "cell_type": "code",
   "execution_count": null,
   "metadata": {
    "id": "QEiwCaGTqJI1"
   },
   "outputs": [],
   "source": [
    "trn_shuffle.to_csv('train_sese.txt', sep='\\t', index=True)"
   ]
  },
  {
   "cell_type": "markdown",
   "metadata": {},
   "source": [
    "## Preprocessing for LSTM(세분류)"
   ]
  },
  {
   "cell_type": "code",
   "execution_count": null,
   "metadata": {},
   "outputs": [],
   "source": [
    "from tensorflow.keras.preprocessing.text import Tokenizer\n",
    "from tensorflow.keras.utils import to_categorical\n",
    "from tensorflow.keras.layers import *\n",
    "from tensorflow.keras.models import Sequential, load_model, Model\n",
    "from tensorflow.keras.callbacks import EarlyStopping, ModelCheckpoint,  ReduceLROnPlateau\n",
    "from tensorflow.keras.regularizers import *\n",
    "from tensorflow.keras.preprocessing.sequence import pad_sequences\n",
    "from tensorflow.keras.optimizers import Adam, RMSprop\n",
    "from konlpy.tag import Mecab"
   ]
  },
  {
   "cell_type": "code",
   "execution_count": null,
   "metadata": {},
   "outputs": [],
   "source": [
    "test = pd.read_csv('test.csv')"
   ]
  },
  {
   "cell_type": "code",
   "execution_count": null,
   "metadata": {},
   "outputs": [],
   "source": [
    "mecab = Mecab()\n",
    "stop_words = ['의','가','이','은','들','는','좀','잘','걍','과','도','를','으로','자','에','와','한','하다','을']\n",
    "X_train = []\n",
    "\n",
    "text = list(train['BZ_PPOS_ITM_CTT'])\n",
    "\n",
    "for i in tqdm(range(len(text))):\n",
    "    temp_X = []\n",
    "    temp_X = mecab.nouns(text[i]) # 토큰화\n",
    "    temp_X = [word for word in temp_X if not word in stop_words] # 불용어 제거\n",
    "    temp_X = [word for word in temp_X if len(word) > 1]\n",
    "    X_train.append(temp_X)\n",
    "X_test = []\n",
    "\n",
    "text = list(test['BZ_PPOS_ITM_CTT'])\n",
    "\n",
    "for i in tqdm(range(len(text))):\n",
    "    temp_X = []\n",
    "    temp_X = mecab.nouns(text[i]) # 토큰화\n",
    "    temp_X = [word for word in temp_X if not word in stop_words] # 불용어 제거\n",
    "    # temp_X = [word for word in temp_X if len(word) > 1]\n",
    "    X_test.append(temp_X)"
   ]
  },
  {
   "cell_type": "code",
   "execution_count": null,
   "metadata": {},
   "outputs": [],
   "source": [
    "tokenizer = Tokenizer()\n",
    "tokenizer.fit_on_texts(X_train)"
   ]
  },
  {
   "cell_type": "code",
   "execution_count": null,
   "metadata": {},
   "outputs": [],
   "source": [
    "threshold = 11\n",
    "total_cnt = len(tokenizer.word_index) # 단어의 수\n",
    "rare_cnt = 0 # 등장 빈도수가 threshold보다 작은 단어의 개수를 카운트\n",
    "total_freq = 0 # 훈련 데이터의 전체 단어 빈도수 총 합\n",
    "rare_freq = 0 # 등장 빈도수가 threshold보다 작은 단어의 등장 빈도수의 총 합\n",
    "\n",
    "# 단어와 빈도수의 쌍(pair)을 key와 value로 받는다.\n",
    "for key, value in tokenizer.word_counts.items():\n",
    "    total_freq = total_freq + value\n",
    "\n",
    "    # 단어의 등장 빈도수가 threshold보다 작으면\n",
    "    if(value < threshold):\n",
    "        rare_cnt = rare_cnt + 1\n",
    "        rare_freq = rare_freq + value\n",
    "\n",
    "print('단어 집합(vocabulary)의 크기 :',total_cnt)\n",
    "print('등장 빈도가 %s번 이하인 희귀 단어의 수: %s'%(threshold - 1, rare_cnt))\n",
    "print(\"단어 집합에서 희귀 단어의 비율:\", (rare_cnt / total_cnt)*100)\n",
    "print(\"전체 등장 빈도에서 희귀 단어 등장 빈도 비율:\", (rare_freq / total_freq)*100)"
   ]
  },
  {
   "cell_type": "code",
   "execution_count": null,
   "metadata": {},
   "outputs": [],
   "source": [
    "vocab_size = total_cnt - rare_cnt + 1 # 전체 단어 개수 중 빈도수 2이하인 단어 개수는 제거. 0번 패딩 토큰을 고려하여 +1\n",
    "print('단어 집합의 크기 :',vocab_size)"
   ]
  },
  {
   "cell_type": "code",
   "execution_count": null,
   "metadata": {},
   "outputs": [],
   "source": [
    "tokenizer = Tokenizer(num_words = vocab_size) # num_words = vocab_size\n",
    "tokenizer.fit_on_texts(X_train)\n",
    "token_X_train = tokenizer.texts_to_sequences(X_train)\n",
    "token_X_test = tokenizer.texts_to_sequences(X_test)"
   ]
  },
  {
   "cell_type": "code",
   "execution_count": null,
   "metadata": {},
   "outputs": [],
   "source": [
    "y_train = to_categorical(np.array(train['KSIC10_BZC_CD']))\n",
    "drop_train = [index for index, sentence in enumerate(token_X_train) if len(sentence) < 1]"
   ]
  },
  {
   "cell_type": "code",
   "execution_count": null,
   "metadata": {},
   "outputs": [],
   "source": [
    "# 빈 샘플들을 제거\n",
    "del_X_train = np.delete(token_X_train, drop_train, axis=0)\n",
    "del_y_train = np.delete(y_train, drop_train, axis=0)\n",
    "print(len(del_X_train))\n",
    "print(len(del_y_train))"
   ]
  },
  {
   "cell_type": "code",
   "execution_count": null,
   "metadata": {},
   "outputs": [],
   "source": [
    "def below_threshold_len(max_len, nested_list):\n",
    "    cnt = 0\n",
    "    for s in nested_list:\n",
    "        if(len(s) <= max_len):\n",
    "            cnt = cnt + 1\n",
    "    print('전체 샘플 중 길이가 %s 이하인 샘플의 비율: %s'%(max_len, (cnt / len(nested_list))*100))"
   ]
  },
  {
   "cell_type": "code",
   "execution_count": null,
   "metadata": {},
   "outputs": [],
   "source": [
    "max_len = 300\n",
    "below_threshold_len(max_len, del_X_train)"
   ]
  },
  {
   "cell_type": "code",
   "execution_count": null,
   "metadata": {},
   "outputs": [],
   "source": [
    "pad_X_train = pad_sequences(del_X_train, maxlen = max_len)\n",
    "pad_X_test = pad_sequences(token_X_test, maxlen = max_len)"
   ]
  },
  {
   "cell_type": "markdown",
   "metadata": {
    "id": "lyxpmYQaFBMz"
   },
   "source": [
    "## Train & Test Bert"
   ]
  },
  {
   "cell_type": "markdown",
   "metadata": {
    "id": "T5ER3a6jFZAg"
   },
   "source": [
    "### 대분류"
   ]
  },
  {
   "cell_type": "code",
   "execution_count": null,
   "metadata": {
    "id": "0sOtnBoM_H8w"
   },
   "outputs": [],
   "source": [
    "!git clone https://github.com/yoosoobin/potato\n",
    "!python bert_train.py --source train_big.txt --device 0 --save-weight-model final_big --classes 21 --batch 64"
   ]
  },
  {
   "cell_type": "code",
   "execution_count": null,
   "metadata": {
    "id": "7FzHas6yE-SX"
   },
   "outputs": [],
   "source": [
    "!python bert_test.py --source bert_test.txt --weights final_big.pt --classes 21 --batch 32 --device 0 --save_csv_name big_test_pred"
   ]
  },
  {
   "cell_type": "code",
   "execution_count": null,
   "metadata": {
    "id": "Dd_LZknZU3xr"
   },
   "outputs": [],
   "source": [
    "big = pd.read_csv('big_test_pred.csv')"
   ]
  },
  {
   "cell_type": "code",
   "execution_count": null,
   "metadata": {
    "id": "14OlxRIyGQcW"
   },
   "outputs": [],
   "source": [
    "import string\n",
    "dic = {}\n",
    "for k,v in zip([i for i in range(21)],string.ascii_uppercase):\n",
    "    dic[k] = v"
   ]
  },
  {
   "cell_type": "code",
   "execution_count": null,
   "metadata": {
    "id": "QaYm-kbYS32i"
   },
   "outputs": [],
   "source": [
    "submit = pd.DataFrame(columns = ['KEDCD','big'])"
   ]
  },
  {
   "cell_type": "code",
   "execution_count": null,
   "metadata": {
    "id": "BvhQpkA6Ub-I"
   },
   "outputs": [],
   "source": [
    "submit['KEDCD'] = test_df['KEDCD'].astype(str)\n",
    "submit['pred_big'] = big['pred'].astype(int).map(dic)"
   ]
  },
  {
   "cell_type": "markdown",
   "metadata": {
    "id": "9iNFreaoV5ut"
   },
   "source": [
    "### 중분류"
   ]
  },
  {
   "cell_type": "code",
   "execution_count": null,
   "metadata": {
    "id": "rCYrbFFTVpiR"
   },
   "outputs": [],
   "source": [
    "!python bert_train.py --source train_mid.txt --device 0 --save-weight-model final_mid --classes 77 --batch 64"
   ]
  },
  {
   "cell_type": "code",
   "execution_count": null,
   "metadata": {
    "id": "ddA-xq7rWBbw"
   },
   "outputs": [],
   "source": [
    "!python bert_test.py --source bert_test.txt --weights final_mid.pt --classes 77 --batch 32 --device 0 --save_csv_name mid_test_pred"
   ]
  },
  {
   "cell_type": "code",
   "execution_count": null,
   "metadata": {
    "id": "w-rvtx21YnBL"
   },
   "outputs": [],
   "source": [
    "mid = pd.read_csv('mid_test_pred.csv')"
   ]
  },
  {
   "cell_type": "code",
   "execution_count": null,
   "metadata": {},
   "outputs": [],
   "source": [
    "train_mid = pd.read_csv('preprocessing_data/train_data_mid.csv',dtype={'mid':str})"
   ]
  },
  {
   "cell_type": "code",
   "execution_count": null,
   "metadata": {
    "id": "61ZORv8JZKv8"
   },
   "outputs": [],
   "source": [
    "from sklearn.preprocessing import LabelEncoder\n",
    "encoder = LabelEncoder()\n",
    "encoder.fit(train_mid['mid'])\n",
    "mapping = dict(zip(range(len(encoder.classes_)), encoder.classes_))\n"
   ]
  },
  {
   "cell_type": "code",
   "execution_count": null,
   "metadata": {
    "id": "CBeXIClMawR9"
   },
   "outputs": [],
   "source": [
    "mid['label'] = mid['pred'].astype(int).map(mapping)"
   ]
  },
  {
   "cell_type": "code",
   "execution_count": null,
   "metadata": {
    "id": "ZDgKe1glbBkg"
   },
   "outputs": [],
   "source": [
    "submit['mid'] = mid['label']"
   ]
  },
  {
   "cell_type": "markdown",
   "metadata": {
    "id": "d9SFRL7EbLUw"
   },
   "source": [
    "### 소분류"
   ]
  },
  {
   "cell_type": "code",
   "execution_count": null,
   "metadata": {
    "id": "OEHFgeCXbJkz"
   },
   "outputs": [],
   "source": [
    "!python bert_train.py --source train_small.txt --device 0 --save-weight-model final_small --classes 232 --batch 64"
   ]
  },
  {
   "cell_type": "code",
   "execution_count": null,
   "metadata": {
    "id": "rOtITH8nuMj-"
   },
   "outputs": [],
   "source": [
    "!python bert_test.py --source bert_test.txt --weights final_small.pt --classes 232 --batch 32 --device 0 --save_csv_name small_test_pred"
   ]
  },
  {
   "cell_type": "code",
   "execution_count": null,
   "metadata": {
    "id": "rBFYeB-cuO4q"
   },
   "outputs": [],
   "source": [
    "small = pd.read_csv('small_test_pred.csv')"
   ]
  },
  {
   "cell_type": "code",
   "execution_count": null,
   "metadata": {},
   "outputs": [],
   "source": [
    "train_small = pd.read_csv('preprocessing_data/train_data_small.csv',dtype={'small':str})"
   ]
  },
  {
   "cell_type": "code",
   "execution_count": null,
   "metadata": {
    "id": "NxTELouxusos"
   },
   "outputs": [],
   "source": [
    "from sklearn.preprocessing import LabelEncoder \n",
    "encoder = LabelEncoder() # encoding\n",
    "encoder.fit(train_small['small'])\n",
    "mapping = dict(zip(range(len(encoder.classes_)), encoder.classes_)) # decoding"
   ]
  },
  {
   "cell_type": "code",
   "execution_count": null,
   "metadata": {
    "id": "v0KAd95fvfdQ"
   },
   "outputs": [],
   "source": [
    "small['label'] = small['pred'].astype(int).map(mapping)  # decoding mapping"
   ]
  },
  {
   "cell_type": "code",
   "execution_count": null,
   "metadata": {
    "id": "MLx0nXGbvkjp"
   },
   "outputs": [],
   "source": [
    "submit['small'] = small['label']"
   ]
  },
  {
   "cell_type": "markdown",
   "metadata": {
    "id": "9zuWc8d4vnOU"
   },
   "source": [
    "### 세분류(LSTM)"
   ]
  },
  {
   "cell_type": "code",
   "execution_count": null,
   "metadata": {},
   "outputs": [],
   "source": [
    "model4 = Sequential()\n",
    "model4.add(Embedding(vocab_size, 32, input_length=max_len))\n",
    "model4.add(Dropout(0.3))\n",
    "model4.add(Conv1D(32, 5, activation='relu'))\n",
    "model4.add(Conv1D(32, 5, activation='relu'))\n",
    "model4.add(MaxPooling1D(pool_size=4))\n",
    "model4.add(LSTM(32))\n",
    "model4.add(BatchNormalization())\n",
    "model4.add(Dense(491, activation='softmax'))\n",
    "model4.summary()"
   ]
  },
  {
   "cell_type": "code",
   "execution_count": null,
   "metadata": {},
   "outputs": [],
   "source": [
    "model4.compile(loss='categorical_crossentropy', optimizer=RMSprop(lr = .0005), metrics=['acc'])\n",
    "callback_ear = [EarlyStopping(monitor = 'loss', mode = 'min', patience = 5, verbose = 1), ModelCheckpoint(filepath =  os.path.join(path, 'se_model_0520'), monitor = 'val_acc', save_best_only = True, mode = 'max', verbose = 1)]\n",
    "\n",
    "history4 = model4.fit(pad_X_train, se_y_train, epochs=100, batch_size=150, validation_split=val_rate, verbose = 1,shuffle = True, callbacks= callback_ear)"
   ]
  },
  {
   "cell_type": "code",
   "execution_count": null,
   "metadata": {},
   "outputs": [],
   "source": [
    "model4 = load_model( os.path.join(path, 'se_model_0520'))"
   ]
  },
  {
   "cell_type": "code",
   "execution_count": null,
   "metadata": {},
   "outputs": [],
   "source": [
    "pred4 = model4.predict(pad_X_test)"
   ]
  },
  {
   "cell_type": "code",
   "execution_count": null,
   "metadata": {},
   "outputs": [],
   "source": [
    "train_se=pd.read_csv('train_data_se.csv',dtype={'KEDCD':str,'BZ_PPOS_ITM_CTT':str,'KSIC10_BZC_CD':str,'mid':str,'Big':str,'small':str,'se':str})"
   ]
  },
  {
   "cell_type": "code",
   "execution_count": null,
   "metadata": {},
   "outputs": [],
   "source": [
    "ls = train_se['se'].unique().tolist()"
   ]
  },
  {
   "cell_type": "code",
   "execution_count": null,
   "metadata": {},
   "outputs": [],
   "source": [
    "final_ls = []\n",
    "for i in ls:\n",
    "    if len(i)==4:\n",
    "        final_ls.append(i)\n",
    "final_ls = sorted(final_ls)"
   ]
  },
  {
   "cell_type": "code",
   "execution_count": null,
   "metadata": {},
   "outputs": [],
   "source": [
    "pred_se_val = []\n",
    "for i in pred_X_test:\n",
    "    pred_idx = np.argmax(i)\n",
    "    pred_se_val.append(final_ls[pred_idx])\n",
    "submit['se'] = pred_se_val"
   ]
  },
  {
   "cell_type": "markdown",
   "metadata": {
    "id": "xWvaLHTVwOsX"
   },
   "source": [
    "### 세세분류"
   ]
  },
  {
   "cell_type": "code",
   "execution_count": null,
   "metadata": {
    "id": "6-8FW23TwOEJ"
   },
   "outputs": [],
   "source": [
    "!python bert_train.py --source train_sese.txt --device 0 --save-weight-model final_sese --classes 1196 --batch 64"
   ]
  },
  {
   "cell_type": "code",
   "execution_count": null,
   "metadata": {
    "id": "UtOIEL-hwShS"
   },
   "outputs": [],
   "source": [
    "!python bert_test.py --source bert_test.txt --weights final_sese.pt --classes 1196 --batch 32 --device 0 --save_csv_name sese_test_pred"
   ]
  },
  {
   "cell_type": "code",
   "execution_count": null,
   "metadata": {},
   "outputs": [],
   "source": [
    "train_sese = pd.read_csv('train_data_sese.csv')\n",
    "uni = final_train['KSIC10_BZC_CD'].unique()\n",
    "sese_list = []\n",
    "for i in uni.astype(str):\n",
    "    if len(i) == 6:\n",
    "        sese_list.append(i)\n",
    "real_sese_list = sorted(sese_list)\n",
    "real_sese_list = list(map(lambda x: x[1:],real_sese_list))"
   ]
  },
  {
   "cell_type": "code",
   "execution_count": null,
   "metadata": {
    "id": "v2HEBYWiwcDa"
   },
   "outputs": [],
   "source": [
    "sese = pd.read_csv('sese_test_pred.csv')"
   ]
  },
  {
   "cell_type": "code",
   "execution_count": null,
   "metadata": {},
   "outputs": [],
   "source": [
    "train_sese = pd.read_csv('preprocessing_data/train_data_sese.csv',dtype={'sese':str})"
   ]
  },
  {
   "cell_type": "code",
   "execution_count": null,
   "metadata": {
    "id": "ocpjiu3Dwgbv"
   },
   "outputs": [],
   "source": [
    "from sklearn.preprocessing import LabelEncoder\n",
    "encoder = LabelEncoder()\n",
    "encoder.fit(train_sese['sese'])\n",
    "mapping = dict(zip(range(len(encoder.classes_)), encoder.classes_))"
   ]
  },
  {
   "cell_type": "code",
   "execution_count": null,
   "metadata": {
    "id": "kQGiNUT4wiNY"
   },
   "outputs": [],
   "source": [
    "sese['label'] = sese['pred'].astype(int).map(mapping)"
   ]
  },
  {
   "cell_type": "code",
   "execution_count": null,
   "metadata": {
    "id": "3IECIBttwl_M"
   },
   "outputs": [],
   "source": [
    "submit['sese'] = sese['label']"
   ]
  },
  {
   "cell_type": "markdown",
   "metadata": {
    "id": "6kNVs4VgxGuT"
   },
   "source": [
    "## Final Predict"
   ]
  },
  {
   "cell_type": "code",
   "execution_count": null,
   "metadata": {
    "id": "UL_8XijzxEna"
   },
   "outputs": [],
   "source": [
    "final_mid = []\n",
    "final_small = []\n",
    "# final_se = []\n",
    "for i in range(len(submit)):\n",
    "    # 중분류\n",
    "    ls = []\n",
    "    mid = submit.iloc[i]['mid']\n",
    "    small = submit.iloc[i]['small']\n",
    "    se = submit.iloc[i]['se']\n",
    "    sese = submit.iloc[i]['sese']\n",
    "    ls.append(mid)\n",
    "    ls.append(small[:-1])\n",
    "    ls.append(se[:-2])\n",
    "    ls.append(sese[:-3])\n",
    "    counting = pd.Series(ls).value_counts()\n",
    "    if counting.values[0] == 1:\n",
    "        final_mid.append(mid)\n",
    "    elif counting.values[0] == 2:\n",
    "        if counting.values[0] == 2:\n",
    "            final_mid.append(mid)\n",
    "    else:\n",
    "        final_mid.append(counting.index[0])\n",
    "    # 소분류\n",
    "    ls2 = []\n",
    "    ls2.append(small[-1])\n",
    "    ls2.append(se[-2])\n",
    "    ls2.append(sese[-3])\n",
    "    counting2 = pd.Series(ls2).value_counts()\n",
    "    if counting2.values[0] == 1:\n",
    "        final_small.append(small[-1])\n",
    "    else:\n",
    "        final_small.append(counting2.index[0])"
   ]
  },
  {
   "cell_type": "code",
   "execution_count": null,
   "metadata": {
    "id": "6NRKZerOx5cd"
   },
   "outputs": [],
   "source": [
    "submit['final_mid'] = final_mid\n",
    "submit['final_small'] = final_small\n",
    "submit['pred'] = submit['big']+submit['final_mid'] + submit['final_small'].str[-1] + submit['se'].str[-1] + submit['sese'].str[-1]"
   ]
  },
  {
   "cell_type": "code",
   "execution_count": null,
   "metadata": {
    "id": "UWG2LGEPyDZg"
   },
   "outputs": [],
   "source": [
    "submit.drop(['se','big','mid','small','sese','final_mid','final_small'],axis=1,inplace=True)"
   ]
  },
  {
   "cell_type": "code",
   "execution_count": null,
   "metadata": {
    "id": "TrdHoRL5ytv9"
   },
   "outputs": [],
   "source": [
    "submit = submit[submit['KEDCD'] != '6525199']"
   ]
  },
  {
   "cell_type": "code",
   "execution_count": null,
   "metadata": {
    "id": "eAi5UBlLyO9E"
   },
   "outputs": [],
   "source": [
    "result = pd.read_excel('[공모전]정답제출양식_(조)_제출일자.xlsx')\n",
    "result = pd.merge(result,submit,on='KEDCD')\n",
    "result.drop('모델이 예측한 업종코드',axis=1,inplace=True)\n",
    "result.columns = ['KEDCD','모델이 예측한 업종코드']\n",
    "result.to_excel('[공모전]정답제출양식_(애쓰는감자)_20210523.xlsx',index=False)"
   ]
  }
 ],
 "metadata": {
  "colab": {
   "collapsed_sections": [],
   "name": "Merge_code.ipynb",
   "provenance": [],
   "toc_visible": true
  },
  "kernelspec": {
   "display_name": "Python 3",
   "language": "python",
   "name": "python3"
  },
  "language_info": {
   "codemirror_mode": {
    "name": "ipython",
    "version": 3
   },
   "file_extension": ".py",
   "mimetype": "text/x-python",
   "name": "python",
   "nbconvert_exporter": "python",
   "pygments_lexer": "ipython3",
   "version": "3.7.1"
  }
 },
 "nbformat": 4,
 "nbformat_minor": 1
}
